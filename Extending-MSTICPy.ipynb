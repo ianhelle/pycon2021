{
 "cells": [
  {
   "cell_type": "markdown",
   "metadata": {},
   "source": [
    "![image](images/MSTIC.png)\n",
    "\n",
    "# Customizing and extending MSTICPy\n",
    "### Ian Hellen, Principal Dev, in Microsoft Threat Intelligence Center (MSTIC)\n",
    "### @ianhellen (twitter), ianhelle@microsoft.com\n"
   ]
  },
  {
   "cell_type": "markdown",
   "metadata": {},
   "source": [
    "---\r\n",
    "\r\n",
    "<h2 style=\"color: White; background-color: DarkSlateBlue; padding: 10px\">Topics</h2>\r\n",
    "\r\n",
    "\r\n",
    "#### - MSTICPy Settings\r\n",
    "#### - Creating queries\r\n",
    "#### - Creating pivot functions\r\n",
    "#### - Creating a data provider\r\n",
    "<br>\r\n",
    "\r\n",
    "---\r\n",
    "\r\n",
    "<h2 style=\"color: White; background-color: DarkSlateBlue; padding: 10px\">Get this notebook <i>Extending MSTICPy.ipynb</i></h2>\r\n",
    "\r\n",
    "## @ https://aka.ms/msticpy-launchspace\r\n",
    "\r\n",
    "---"
   ]
  },
  {
   "cell_type": "code",
   "execution_count": 1,
   "metadata": {},
   "outputs": [
    {
     "data": {
      "text/html": "<hr><h4>Starting Notebook initialization...</h4>",
      "text/plain": "<IPython.core.display.HTML object>"
     },
     "metadata": {},
     "output_type": "display_data"
    },
    {
     "data": {
      "text/html": "msticpy version installed: 1.1.0 latest published: 1.0.1<br>Latest version is installed.<br> <br>",
      "text/plain": "<IPython.core.display.HTML object>"
     },
     "metadata": {},
     "output_type": "display_data"
    },
    {
     "data": {
      "text/html": "Processing imports.... <br>",
      "text/plain": "<IPython.core.display.HTML object>"
     },
     "metadata": {},
     "output_type": "display_data"
    },
    {
     "data": {
      "text/html": "Imported: pd (pandas), IPython.get_ipython, IPython.display.display, IPython.display.HTML, IPython.display.Markdown, widgets (ipywidgets), pathlib.Path, plt (matplotlib.pyplot), matplotlib.MatplotlibDeprecationWarning, sns (seaborn), np (numpy), msticpy.data.QueryProvider, msticpy.nbtools.foliummap.FoliumMap, msticpy.common.utility.md, msticpy.common.utility.md_warn, msticpy.common.wsconfig.WorkspaceConfig, msticpy.datamodel.pivot.Pivot, msticpy.datamodel.entities <br>",
      "text/plain": "<IPython.core.display.HTML object>"
     },
     "metadata": {},
     "output_type": "display_data"
    },
    {
     "data": {
      "text/html": "Checking configuration.... <br>",
      "text/plain": "<IPython.core.display.HTML object>"
     },
     "metadata": {},
     "output_type": "display_data"
    },
    {
     "data": {
      "text/html": "Setting notebook options.... <br>",
      "text/plain": "<IPython.core.display.HTML object>"
     },
     "metadata": {},
     "output_type": "display_data"
    },
    {
     "data": {
      "text/html": " <br>",
      "text/plain": "<IPython.core.display.HTML object>"
     },
     "metadata": {},
     "output_type": "display_data"
    },
    {
     "data": {
      "text/html": "<h4>Notebook initialization complete</h4>",
      "text/plain": "<IPython.core.display.HTML object>"
     },
     "metadata": {},
     "output_type": "display_data"
    }
   ],
   "source": [
    "from msticpy.nbtools import nbinit\n",
    "nbinit.init_notebook(namespace=globals());"
   ]
  },
  {
   "cell_type": "markdown",
   "metadata": {},
   "source": [
    "---\n",
    "\n",
    "<h1 style=\"border: 1px solid;color: White; background-color: DarkSlateGray; padding: 10px\">Creating & editing MSTICPy settings</h1>\n"
   ]
  },
  {
   "cell_type": "markdown",
   "metadata": {
    "tags": []
   },
   "source": [
    "### Sample config file\n",
    "### https://github.com/Azure/Azure-Sentinel-Notebooks/blob/master/msticpyconfig.yaml"
   ]
  },
  {
   "cell_type": "code",
   "execution_count": 2,
   "metadata": {},
   "outputs": [
    {
     "data": {
      "application/vnd.jupyter.widget-view+json": {
       "model_id": "bace032ef46041cfaffd22d8ee1d77db",
       "version_major": 2,
       "version_minor": 0
      },
      "text/plain": "VBox(children=(Tab(children=(VBox(children=(Label(value='Azure Sentinel workspace settings'), HBox(children=(V…"
     },
     "metadata": {},
     "output_type": "display_data"
    }
   ],
   "source": [
    "from msticpy.config import MpConfigEdit\n",
    "\n",
    "MpConfigEdit(\"./msticpyconfig.yaml\")"
   ]
  },
  {
   "cell_type": "markdown",
   "metadata": {},
   "source": [
    "---\n",
    "\n",
    "<h1 style=\"border: 1px solid;color: White; background-color: DarkSlateGray; padding: 10px\">Creating a query</h1>\n"
   ]
  },
  {
   "cell_type": "code",
   "execution_count": 3,
   "metadata": {},
   "outputs": [
    {
     "name": "stdout",
     "output_type": "stream",
     "text": [
      "Please wait. Loading Kqlmagic extension...\n"
     ]
    },
    {
     "data": {
      "text/html": "<!DOCTYPE html>\n            <html><body>\n            <div style=''>\n            <a href='http://127.0.0.1:1185/webbrowser?url=http%3A//127.0.0.1%3A1185/files/.kqlmagic/temp_files/00a208ae-b48c-47b2-93a3-68c9e7b19185/popup__8ecf8077-cf51-4820-aadd-14040956f35d_at_loganalytics_schema.html%3Fkernelid%3D00a208ae-b48c-47b2-93a3-68c9e7b19185&kernelid=00a208ae-b48c-47b2-93a3-68c9e7b19185' style='padding: 2px 6px 2px 6px; color: #333333; background-color: #EEEEEE; border-top: 1px solid #CCCCCC; border-right: 1px solid #333333; border-bottom: 1px solid #333333; border-left: 1px solid #CCCCCC' target='popup__8ecf8077-cf51-4820-aadd-14040956f35d_at_loganalytics_schema'>popup schema 8ecf8077-cf51-4820-aadd-14040956f35d@loganalytics</a>\n            </div>\n            </body></html>",
      "text/plain": "<IPython.core.display.HTML object>"
     },
     "metadata": {},
     "output_type": "display_data"
    }
   ],
   "source": [
    "# from msticpy.data import QueryProvider   ## Not needed if you ran nbinit.init_notebook\n",
    "my_qry_prov = QueryProvider(\"AzureSentinel\")\n",
    "my_qry_prov.connect(WorkspaceConfig(workspace=\"CyberSecuritySoc\"))"
   ]
  },
  {
   "cell_type": "code",
   "execution_count": 4,
   "metadata": {},
   "outputs": [
    {
     "data": {
      "text/html": "<div>\n<style scoped>\n    .dataframe tbody tr th:only-of-type {\n        vertical-align: middle;\n    }\n\n    .dataframe tbody tr th {\n        vertical-align: top;\n    }\n\n    .dataframe thead th {\n        text-align: right;\n    }\n</style>\n<table border=\"1\" class=\"dataframe\">\n  <thead>\n    <tr style=\"text-align: right;\">\n      <th></th>\n      <th>TenantId</th>\n      <th>TimeGenerated</th>\n      <th>AlertDisplayName</th>\n      <th>AlertName</th>\n      <th>Severity</th>\n      <th>Description</th>\n      <th>ProviderName</th>\n      <th>VendorName</th>\n      <th>VendorOriginalId</th>\n      <th>SystemAlertId</th>\n      <th>ResourceId</th>\n      <th>SourceComputerId</th>\n      <th>AlertType</th>\n      <th>ConfidenceLevel</th>\n      <th>ConfidenceScore</th>\n      <th>IsIncident</th>\n      <th>StartTimeUtc</th>\n      <th>EndTimeUtc</th>\n      <th>ProcessingEndTime</th>\n      <th>RemediationSteps</th>\n      <th>ExtendedProperties</th>\n      <th>Entities</th>\n      <th>SourceSystem</th>\n      <th>WorkspaceSubscriptionId</th>\n      <th>WorkspaceResourceGroup</th>\n      <th>ExtendedLinks</th>\n      <th>ProductName</th>\n      <th>ProductComponentName</th>\n      <th>AlertLink</th>\n      <th>Status</th>\n      <th>CompromisedEntity</th>\n      <th>Tactics</th>\n      <th>Type</th>\n    </tr>\n  </thead>\n  <tbody>\n    <tr>\n      <th>0</th>\n      <td>8ecf8077-cf51-4820-aadd-14040956f35d</td>\n      <td>2021-05-20 19:05:25.688000+00:00</td>\n      <td>Malicious credential theft tool execution detected</td>\n      <td>Malicious credential theft tool execution detected</td>\n      <td>High</td>\n      <td>A known credential theft tool execution command line was detected.\\nEither the process itself or...</td>\n      <td>MDATP</td>\n      <td>Microsoft</td>\n      <td>da637569252690092730_-820524321</td>\n      <td>4d334d29-c109-857c-e775-af5bb2807704</td>\n      <td></td>\n      <td></td>\n      <td>WindowsDefenderAtp</td>\n      <td></td>\n      <td>NaN</td>\n      <td>False</td>\n      <td>2021-05-18 08:59:58.188000+00:00</td>\n      <td>2021-05-18 08:59:58.188000+00:00</td>\n      <td>2021-05-20 19:05:25.565000+00:00</td>\n      <td>[\\r\\n  \"1. Make sure the machine is completely updated and all your software has the latest patc...</td>\n      <td>{\\r\\n  \"MicrosoftDefenderAtp.Category\": \"CredentialAccess\",\\r\\n  \"MicrosoftDefenderAtp.Investiga...</td>\n      <td>[\\r\\n  {\\r\\n    \"$id\": \"4\",\\r\\n    \"DnsDomain\": \"na.contosohotels.com\",\\r\\n    \"HostName\": \"vict...</td>\n      <td>Detection</td>\n      <td></td>\n      <td></td>\n      <td></td>\n      <td>Microsoft Defender Advanced Threat Protection</td>\n      <td></td>\n      <td>https://securitycenter.microsoft.com/alert/da637569252690092730_-820524321?tid=4b2462a4-bbee-495...</td>\n      <td>New</td>\n      <td></td>\n      <td>CredentialAccess</td>\n      <td>SecurityAlert</td>\n    </tr>\n    <tr>\n      <th>1</th>\n      <td>8ecf8077-cf51-4820-aadd-14040956f35d</td>\n      <td>2021-05-20 19:10:30.159000+00:00</td>\n      <td>Malicious credential theft tool execution detected</td>\n      <td>Malicious credential theft tool execution detected</td>\n      <td>High</td>\n      <td>A known credential theft tool execution command line was detected.\\nEither the process itself or...</td>\n      <td>MDATP</td>\n      <td>Microsoft</td>\n      <td>da637569217459020928_1215630741</td>\n      <td>a910a8dc-8ec5-33be-2d6d-0dcb25ffdf75</td>\n      <td></td>\n      <td></td>\n      <td>WindowsDefenderAtp</td>\n      <td></td>\n      <td>NaN</td>\n      <td>False</td>\n      <td>2021-05-18 07:59:08.774000+00:00</td>\n      <td>2021-05-18 07:59:08.774000+00:00</td>\n      <td>2021-05-20 19:10:30.019000+00:00</td>\n      <td>[\\r\\n  \"1. Make sure the machine is completely updated and all your software has the latest patc...</td>\n      <td>{\\r\\n  \"MicrosoftDefenderAtp.Category\": \"CredentialAccess\",\\r\\n  \"MicrosoftDefenderAtp.Investiga...</td>\n      <td>[\\r\\n  {\\r\\n    \"$id\": \"4\",\\r\\n    \"DnsDomain\": \"na.contosohotels.com\",\\r\\n    \"HostName\": \"vict...</td>\n      <td>Detection</td>\n      <td></td>\n      <td></td>\n      <td></td>\n      <td>Microsoft Defender Advanced Threat Protection</td>\n      <td></td>\n      <td>https://securitycenter.microsoft.com/alert/da637569217459020928_1215630741?tid=4b2462a4-bbee-495...</td>\n      <td>New</td>\n      <td></td>\n      <td>CredentialAccess</td>\n      <td>SecurityAlert</td>\n    </tr>\n    <tr>\n      <th>2</th>\n      <td>8ecf8077-cf51-4820-aadd-14040956f35d</td>\n      <td>2021-05-20 19:15:07.153000+00:00</td>\n      <td>TI map IP entity to AzureActivity (enriched)</td>\n      <td>TI map IP entity to AzureActivity (enriched)</td>\n      <td>Medium</td>\n      <td>Identifies a match in AzureActivity from any IP IOC from TI. Automation will enrich with RiskIQ ...</td>\n      <td>ASI Scheduled Alerts</td>\n      <td>Microsoft</td>\n      <td>e6fbf8ac-1338-4454-a7db-d50d1dee22c3</td>\n      <td>ed38d784-7357-93ec-4a86-0649c6bcb2f1</td>\n      <td></td>\n      <td></td>\n      <td>8ecf8077-cf51-4820-aadd-14040956f35d_9119cf0a-7bc3-4288-b8d2-1e4e293b433e</td>\n      <td></td>\n      <td>NaN</td>\n      <td>False</td>\n      <td>2021-05-06 19:10:02.788000+00:00</td>\n      <td>2021-05-20 19:10:02.788000+00:00</td>\n      <td>2021-05-20 19:15:07.153000+00:00</td>\n      <td></td>\n      <td>{\\r\\n  \"Query\": \"// The query_now parameter represents the time (in UTC) at which the scheduled ...</td>\n      <td>[\\r\\n  {\\r\\n    \"$id\": \"3\",\\r\\n    \"Address\": \"144.91.119.160\",\\r\\n    \"Type\": \"ip\"\\r\\n  },\\r\\n ...</td>\n      <td>Detection</td>\n      <td>d1d8779d-38d7-4f06-91db-9cbc8de0176f</td>\n      <td>SOC</td>\n      <td></td>\n      <td>Azure Sentinel</td>\n      <td>Scheduled Alerts</td>\n      <td></td>\n      <td>New</td>\n      <td></td>\n      <td>Impact</td>\n      <td>SecurityAlert</td>\n    </tr>\n  </tbody>\n</table>\n</div>",
      "text/plain": "                               TenantId                    TimeGenerated  \\\n0  8ecf8077-cf51-4820-aadd-14040956f35d 2021-05-20 19:05:25.688000+00:00   \n1  8ecf8077-cf51-4820-aadd-14040956f35d 2021-05-20 19:10:30.159000+00:00   \n2  8ecf8077-cf51-4820-aadd-14040956f35d 2021-05-20 19:15:07.153000+00:00   \n\n                                     AlertDisplayName  \\\n0  Malicious credential theft tool execution detected   \n1  Malicious credential theft tool execution detected   \n2        TI map IP entity to AzureActivity (enriched)   \n\n                                            AlertName Severity  \\\n0  Malicious credential theft tool execution detected     High   \n1  Malicious credential theft tool execution detected     High   \n2        TI map IP entity to AzureActivity (enriched)   Medium   \n\n                                                                                           Description  \\\n0  A known credential theft tool execution command line was detected.\\nEither the process itself or...   \n1  A known credential theft tool execution command line was detected.\\nEither the process itself or...   \n2  Identifies a match in AzureActivity from any IP IOC from TI. Automation will enrich with RiskIQ ...   \n\n           ProviderName VendorName                      VendorOriginalId  \\\n0                 MDATP  Microsoft       da637569252690092730_-820524321   \n1                 MDATP  Microsoft       da637569217459020928_1215630741   \n2  ASI Scheduled Alerts  Microsoft  e6fbf8ac-1338-4454-a7db-d50d1dee22c3   \n\n                          SystemAlertId ResourceId SourceComputerId  \\\n0  4d334d29-c109-857c-e775-af5bb2807704                               \n1  a910a8dc-8ec5-33be-2d6d-0dcb25ffdf75                               \n2  ed38d784-7357-93ec-4a86-0649c6bcb2f1                               \n\n                                                                   AlertType  \\\n0                                                         WindowsDefenderAtp   \n1                                                         WindowsDefenderAtp   \n2  8ecf8077-cf51-4820-aadd-14040956f35d_9119cf0a-7bc3-4288-b8d2-1e4e293b433e   \n\n  ConfidenceLevel  ConfidenceScore  IsIncident  \\\n0                              NaN       False   \n1                              NaN       False   \n2                              NaN       False   \n\n                      StartTimeUtc                       EndTimeUtc  \\\n0 2021-05-18 08:59:58.188000+00:00 2021-05-18 08:59:58.188000+00:00   \n1 2021-05-18 07:59:08.774000+00:00 2021-05-18 07:59:08.774000+00:00   \n2 2021-05-06 19:10:02.788000+00:00 2021-05-20 19:10:02.788000+00:00   \n\n                 ProcessingEndTime  \\\n0 2021-05-20 19:05:25.565000+00:00   \n1 2021-05-20 19:10:30.019000+00:00   \n2 2021-05-20 19:15:07.153000+00:00   \n\n                                                                                      RemediationSteps  \\\n0  [\\r\\n  \"1. Make sure the machine is completely updated and all your software has the latest patc...   \n1  [\\r\\n  \"1. Make sure the machine is completely updated and all your software has the latest patc...   \n2                                                                                                        \n\n                                                                                    ExtendedProperties  \\\n0  {\\r\\n  \"MicrosoftDefenderAtp.Category\": \"CredentialAccess\",\\r\\n  \"MicrosoftDefenderAtp.Investiga...   \n1  {\\r\\n  \"MicrosoftDefenderAtp.Category\": \"CredentialAccess\",\\r\\n  \"MicrosoftDefenderAtp.Investiga...   \n2  {\\r\\n  \"Query\": \"// The query_now parameter represents the time (in UTC) at which the scheduled ...   \n\n                                                                                              Entities  \\\n0  [\\r\\n  {\\r\\n    \"$id\": \"4\",\\r\\n    \"DnsDomain\": \"na.contosohotels.com\",\\r\\n    \"HostName\": \"vict...   \n1  [\\r\\n  {\\r\\n    \"$id\": \"4\",\\r\\n    \"DnsDomain\": \"na.contosohotels.com\",\\r\\n    \"HostName\": \"vict...   \n2  [\\r\\n  {\\r\\n    \"$id\": \"3\",\\r\\n    \"Address\": \"144.91.119.160\",\\r\\n    \"Type\": \"ip\"\\r\\n  },\\r\\n ...   \n\n  SourceSystem               WorkspaceSubscriptionId WorkspaceResourceGroup  \\\n0    Detection                                                                \n1    Detection                                                                \n2    Detection  d1d8779d-38d7-4f06-91db-9cbc8de0176f                    SOC   \n\n  ExtendedLinks                                    ProductName  \\\n0                Microsoft Defender Advanced Threat Protection   \n1                Microsoft Defender Advanced Threat Protection   \n2                                               Azure Sentinel   \n\n  ProductComponentName  \\\n0                        \n1                        \n2     Scheduled Alerts   \n\n                                                                                             AlertLink  \\\n0  https://securitycenter.microsoft.com/alert/da637569252690092730_-820524321?tid=4b2462a4-bbee-495...   \n1  https://securitycenter.microsoft.com/alert/da637569217459020928_1215630741?tid=4b2462a4-bbee-495...   \n2                                                                                                        \n\n  Status CompromisedEntity           Tactics           Type  \n0    New                    CredentialAccess  SecurityAlert  \n1    New                    CredentialAccess  SecurityAlert  \n2    New                              Impact  SecurityAlert  "
     },
     "execution_count": 4,
     "metadata": {},
     "output_type": "execute_result"
    }
   ],
   "source": [
    "my_qry_prov.SecurityAlert.list_alerts(start=-1, end=0).head(3)"
   ]
  },
  {
   "cell_type": "code",
   "execution_count": 5,
   "metadata": {},
   "outputs": [
    {
     "data": {
      "application/vnd.jupyter.widget-view+json": {
       "model_id": "3561c66d03e845e4861ec61843fdffc3",
       "version_major": 2,
       "version_minor": 0
      },
      "text/plain": "VBox(children=(Text(value='', description='Filter:', style=DescriptionStyle(description_width='initial')), Sel…"
     },
     "metadata": {},
     "output_type": "display_data"
    },
    {
     "data": {
      "text/html": "<hr>",
      "text/plain": "<IPython.core.display.HTML object>"
     },
     "metadata": {},
     "output_type": "display_data"
    },
    {
     "data": {
      "text/html": "<h3>Gets Signin data used by morph charts</h3><div></div><p><b>Parameters</b></p><div>add_query_items: str (optional)</div><div style='margin-left: 40px'>    Additional query clauses</div><div>end: datetime (optional)</div><div style='margin-left: 40px'>    Query end time</div><div>start: datetime (optional)</div><div style='margin-left: 40px'>    Query start time</div><div style='margin-left: 40px'>    (default value is: -5)</div><div>table: str (optional)</div><div style='margin-left: 40px'>    Table name</div><div style='margin-left: 40px'>    (default value is: SigninLogs)</div><br><p><b>Query</b></p><pre>{table} \n| where TimeGenerated >= datetime({start}) \n| where TimeGenerated <= datetime({end}) \n| extend Result = iif(ResultType==0, \"Sucess\", \"Failed\") \n| extend Latitude = tostring(parse_json(tostring(LocationDetails.geoCoo\n  rdinates)).latitude)\n| extend Longitude = tostring(parse_json(tostring(LocationDetails.geoCo\n  ordinates)).longitude)</pre><br>\n        <p><b>Example</b></p>\n        <p>{QueryProvider}[.QueryPath].QueryName(params...)</p>\n        <pre>qry_prov.Azure.list_all_signins_geo(start=start, end=end, hostname=host)</pre>\n    ",
      "text/plain": "<IPython.core.display.HTML object>"
     },
     "metadata": {},
     "output_type": "display_data"
    }
   ],
   "source": [
    "my_qry_prov.browse_queries()"
   ]
  },
  {
   "cell_type": "markdown",
   "metadata": {},
   "source": [
    "<h2 style=\"color: White; background-color: DarkSlateBlue; padding: 10px\">Query definition YAML file</h2>\n",
    "\n",
    "```yaml\n",
    "metadata:\n",
    "  version: 1\n",
    "  description: Query template           # Name of the file - just for reference\n",
    "  data_environments: [DataProvider]     # Name of the data provider\n",
    "  data_families: [DataCategory]         # This is used to group the queries\n",
    "  tags: ['event', 'security']           # not yet used but maybe in the future\n",
    "defaults:                               # Global defaults for queries (unless overridden)\n",
    "  metadata:\n",
    "  parameters:\n",
    "sources:\n",
    "  query_name:                           # Query definition\n",
    "    description: Retrieves list of events on a host\n",
    "    args:\n",
    "      # Query text (with optional params)\n",
    "      query: '                          \n",
    "        select something from table where host = \"{param1}\"\n",
    "        '\n",
    "    parameters:\n",
    "      # query parameter defintions (inherits from 'defaults' section)\n",
    "      param1:\n",
    "        description: First parameter\n",
    "        type: type        # str, int, datetime, list\n",
    "        # default:        # if there is a default value\n",
    "\n",
    "```"
   ]
  },
  {
   "cell_type": "markdown",
   "metadata": {},
   "source": [
    "<h2 style=\"color: White; background-color: DarkSlateBlue; padding: 10px\">First query</h2>"
   ]
  },
  {
   "cell_type": "code",
   "execution_count": 6,
   "metadata": {},
   "outputs": [],
   "source": [
    "query_def = \"\"\"\n",
    "metadata:\n",
    "  version: 1\n",
    "  description: Security event queries\n",
    "  data_environments: [AzureSentinel]\n",
    "  data_families: [CustomQueries]\n",
    "  tags: ['windows', 'event', 'security']\n",
    "defaults:\n",
    "  metadata:\n",
    "  parameters:\n",
    "sources:\n",
    "  list_events_by_id:\n",
    "    description: Retrieves list of events on a host\n",
    "    args:\n",
    "      query: '\n",
    "        {table}\n",
    "        | where EventID in ({event_list})\n",
    "        | where TimeGenerated >= datetime({start})\n",
    "        | where TimeGenerated <= datetime({end})\n",
    "        {add_query_items}'\n",
    "    parameters:\n",
    "      table:\n",
    "        description: The name of the source table\n",
    "        type: str\n",
    "        default: SecurityEvent\n",
    "      start:\n",
    "        description: start of the query\n",
    "        type: datetime\n",
    "        default: -1\n",
    "      end:\n",
    "        description: end of the query\n",
    "        type: datetime\n",
    "        default: 0\n",
    "      event_list:\n",
    "        description: List of event IDs to match\n",
    "        type: list\n",
    "      add_query_items:\n",
    "        description: Additional query clauses (precede with \"|\")\n",
    "        type: str\n",
    "        default: \"\"\n",
    "\"\"\""
   ]
  },
  {
   "cell_type": "markdown",
   "metadata": {},
   "source": [
    "<h3 style=\"color: White; background-color: DarkSlateGray; padding: 5px\">Query creation process</h3>\n",
    "\n",
    "- Take a query from your query interface\n",
    "- parameterize the query\n",
    "- Move any reusable parameters to `defaults` section"
   ]
  },
  {
   "cell_type": "code",
   "execution_count": 7,
   "metadata": {},
   "outputs": [
    {
     "data": {
      "text/plain": "({'list_events_by_id': {'description': 'Retrieves list of events on a host',\n   'args': {'query': ' {table} | where EventID in ({event_list}) | where TimeGenerated >= datetime({start}) | where TimeGenerated <= datetime({end}) {add_query_items}'},\n   'parameters': {'table': {'description': 'The name of the source table',\n     'type': 'str',\n     'default': 'SecurityEvent'},\n    'start': {'description': 'start of the query',\n     'type': 'datetime',\n     'default': -1},\n    'end': {'description': 'end of the query',\n     'type': 'datetime',\n     'default': 0},\n    'event_list': {'description': 'List of event IDs to match',\n     'type': 'list'},\n    'add_query_items': {'description': 'Additional query clauses (precede with \"|\")',\n     'type': 'str',\n     'default': ''}}}},\n {'metadata': None, 'parameters': None},\n {'version': 1,\n  'description': 'Security event queries',\n  'data_environments': ['AzureSentinel'],\n  'data_families': ['CustomQueries'],\n  'tags': ['windows', 'event', 'security']})"
     },
     "execution_count": 7,
     "metadata": {},
     "output_type": "execute_result"
    }
   ],
   "source": [
    "from pathlib import Path\n",
    "if not Path(\"./queries\").is_dir():\n",
    "    Path(\"./queries\").mkdir()\n",
    "\n",
    "# Write out the yaml file\n",
    "qry_file = Path(\"./queries\").joinpath(\"az_sent_eventqueries.yaml\")\n",
    "qry_file.write_text(query_def)\n",
    "\n",
    "# Check that the definition is readable and looks OK\n",
    "from msticpy.data.data_query_reader import read_query_def_file\n",
    "read_query_def_file(qry_file)"
   ]
  },
  {
   "cell_type": "markdown",
   "metadata": {},
   "source": [
    "<h3 style=\"color: White; background-color: DarkSlateGray; padding: 5px\">Check the query</h3>"
   ]
  },
  {
   "cell_type": "code",
   "execution_count": 8,
   "metadata": {},
   "outputs": [],
   "source": [
    "from msticpy.data import QueryProvider\n",
    "my_qry_prov = QueryProvider(\"AzureSentinel\", query_paths=[\"./queries\"])"
   ]
  },
  {
   "cell_type": "code",
   "execution_count": 9,
   "metadata": {},
   "outputs": [
    {
     "data": {
      "text/plain": "['Azure.get_vmcomputer_for_host',\n 'Azure.get_vmcomputer_for_ip',\n 'Azure.list_aad_signins_for_account',\n 'Azure.list_aad_signins_for_ip',\n 'Azure.list_all_signins_geo',\n 'Azure.list_azure_activity_for_account',\n 'Azure.list_azure_activity_for_ip',\n 'Azure.list_azure_activity_for_resource',\n 'Azure.list_storage_ops_for_hash',\n 'Azure.list_storage_ops_for_ip',\n 'AzureNetwork.az_net_analytics',\n 'AzureNetwork.dns_lookups_for_domain',\n 'AzureNetwork.dns_lookups_for_ip',\n 'AzureNetwork.dns_lookups_from_ip',\n 'AzureNetwork.get_heartbeat_for_host',\n 'AzureNetwork.get_heartbeat_for_ip',\n 'AzureNetwork.get_host_for_ip',\n 'AzureNetwork.get_ips_for_host',\n 'AzureNetwork.list_azure_network_flows_by_host',\n 'AzureNetwork.list_azure_network_flows_by_ip',\n 'AzureSentinel.get_bookmark_by_id',\n 'AzureSentinel.get_bookmark_by_name',\n 'AzureSentinel.list_bookmarks',\n 'AzureSentinel.list_bookmarks_for_entity',\n 'AzureSentinel.list_bookmarks_for_tags',\n 'CustomQueries.list_events_by_id',\n 'Heartbeat.get_heartbeat_for_host',\n 'Heartbeat.get_heartbeat_for_ip',\n 'Heartbeat.get_info_by_hostname',\n 'Heartbeat.get_info_by_ipaddress',\n 'LinuxAudit.auditd_all',\n 'LinuxSyslog.all_syslog',\n 'LinuxSyslog.cron_activity',\n 'LinuxSyslog.list_account_logon_failures',\n 'LinuxSyslog.list_host_logon_failures',\n 'LinuxSyslog.list_ip_logon_failures',\n 'LinuxSyslog.list_logon_failures',\n 'LinuxSyslog.list_logons_for_account',\n 'LinuxSyslog.list_logons_for_host',\n 'LinuxSyslog.list_logons_for_source_ip',\n 'LinuxSyslog.squid_activity',\n 'LinuxSyslog.sudo_activity',\n 'LinuxSyslog.user_group_activity',\n 'LinuxSyslog.user_logon',\n 'MultiDataSource.get_timeseries_anomalies',\n 'MultiDataSource.get_timeseries_data',\n 'MultiDataSource.get_timeseries_decompose',\n 'MultiDataSource.plot_timeseries_datawithbaseline',\n 'MultiDataSource.plot_timeseries_scoreanomolies',\n 'Network.get_heartbeat_for_host',\n 'Network.get_heartbeat_for_ip',\n 'Network.get_host_for_ip',\n 'Network.get_ips_for_host',\n 'Network.list_azure_network_flows_by_host',\n 'Network.list_azure_network_flows_by_ip',\n 'Office365.list_activity_for_account',\n 'Office365.list_activity_for_ip',\n 'Office365.list_activity_for_resource',\n 'SecurityAlert.get_alert',\n 'SecurityAlert.list_alerts',\n 'SecurityAlert.list_alerts_counts',\n 'SecurityAlert.list_alerts_for_ip',\n 'SecurityAlert.list_related_alerts',\n 'ThreatIntelligence.list_indicators',\n 'ThreatIntelligence.list_indicators_by_domain',\n 'ThreatIntelligence.list_indicators_by_email',\n 'ThreatIntelligence.list_indicators_by_filepath',\n 'ThreatIntelligence.list_indicators_by_hash',\n 'ThreatIntelligence.list_indicators_by_ip',\n 'ThreatIntelligence.list_indicators_by_url',\n 'WindowsSecurity.get_host_logon',\n 'WindowsSecurity.get_parent_process',\n 'WindowsSecurity.get_process_tree',\n 'WindowsSecurity.list_all_logons_by_host',\n 'WindowsSecurity.list_events',\n 'WindowsSecurity.list_events_by_id',\n 'WindowsSecurity.list_host_events',\n 'WindowsSecurity.list_host_events_by_id',\n 'WindowsSecurity.list_host_logon_failures',\n 'WindowsSecurity.list_host_logons',\n 'WindowsSecurity.list_host_processes',\n 'WindowsSecurity.list_hosts_matching_commandline',\n 'WindowsSecurity.list_logon_attempts_by_account',\n 'WindowsSecurity.list_logon_failures_by_account',\n 'WindowsSecurity.list_logons_by_account',\n 'WindowsSecurity.list_matching_processes',\n 'WindowsSecurity.list_other_events',\n 'WindowsSecurity.list_processes_in_session']"
     },
     "execution_count": 9,
     "metadata": {},
     "output_type": "execute_result"
    }
   ],
   "source": [
    "my_qry_prov.list_queries()"
   ]
  },
  {
   "cell_type": "markdown",
   "metadata": {},
   "source": [
    "<h3 style=\"color: White; background-color: DarkSlateGray; padding: 5px\">Test the query</h3>"
   ]
  },
  {
   "cell_type": "code",
   "execution_count": 10,
   "metadata": {},
   "outputs": [],
   "source": [
    "my_qry_prov.connect(WorkspaceConfig(workspace=\"CyberSecuritySoc\"))"
   ]
  },
  {
   "cell_type": "code",
   "execution_count": 11,
   "metadata": {},
   "outputs": [
    {
     "name": "stdout",
     "output_type": "stream",
     "text": [
      "Query:  list_events_by_id\n",
      "Data source:  AzureSentinel\n",
      "Retrieves list of events on a host\n",
      "\n",
      "Parameters\n",
      "----------\n",
      "add_query_items: str (optional)\n",
      "    Additional query clauses (precede with \"|\")\n",
      "end: datetime (optional)\n",
      "    end of the query\n",
      "event_list: list\n",
      "    List of event IDs to match\n",
      "start: datetime (optional)\n",
      "    start of the query\n",
      "    (default value is: -1)\n",
      "table: str (optional)\n",
      "    The name of the source table\n",
      "    (default value is: SecurityEvent)\n",
      "Query:\n",
      " {table} | where EventID in ({event_list}) | where TimeGenerated >= datetime({start}) | where TimeGenerated <= datetime({end}) {add_query_items}\n"
     ]
    },
    {
     "ename": "ValueError",
     "evalue": "No values found for these parameters: ['event_list']",
     "output_type": "error",
     "traceback": [
      "\u001b[1;31m---------------------------------------------------------------------------\u001b[0m",
      "\u001b[1;31mValueError\u001b[0m                                Traceback (most recent call last)",
      "\u001b[1;32m<ipython-input-11-8cbfa52b2ddc>\u001b[0m in \u001b[0;36m<module>\u001b[1;34m\u001b[0m\n\u001b[1;32m----> 1\u001b[1;33m \u001b[0mmy_qry_prov\u001b[0m\u001b[1;33m.\u001b[0m\u001b[0mCustomQueries\u001b[0m\u001b[1;33m.\u001b[0m\u001b[0mlist_events_by_id\u001b[0m\u001b[1;33m(\u001b[0m\u001b[1;33m)\u001b[0m\u001b[1;33m\u001b[0m\u001b[1;33m\u001b[0m\u001b[0m\n\u001b[0m",
      "\u001b[1;32me:\\src\\microsoft\\msticpy\\msticpy\\data\\data_providers.py\u001b[0m in \u001b[0;36m_execute_query\u001b[1;34m(self, *args, **kwargs)\u001b[0m\n\u001b[0;32m    293\u001b[0m         \u001b[1;32mif\u001b[0m \u001b[0mmissing\u001b[0m\u001b[1;33m:\u001b[0m\u001b[1;33m\u001b[0m\u001b[1;33m\u001b[0m\u001b[0m\n\u001b[0;32m    294\u001b[0m             \u001b[0mquery_source\u001b[0m\u001b[1;33m.\u001b[0m\u001b[0mhelp\u001b[0m\u001b[1;33m(\u001b[0m\u001b[1;33m)\u001b[0m\u001b[1;33m\u001b[0m\u001b[1;33m\u001b[0m\u001b[0m\n\u001b[1;32m--> 295\u001b[1;33m             \u001b[1;32mraise\u001b[0m \u001b[0mValueError\u001b[0m\u001b[1;33m(\u001b[0m\u001b[1;34mf\"No values found for these parameters: {missing}\"\u001b[0m\u001b[1;33m)\u001b[0m\u001b[1;33m\u001b[0m\u001b[1;33m\u001b[0m\u001b[0m\n\u001b[0m\u001b[0;32m    296\u001b[0m \u001b[1;33m\u001b[0m\u001b[0m\n\u001b[0;32m    297\u001b[0m         \u001b[0msplit_by\u001b[0m \u001b[1;33m=\u001b[0m \u001b[0mkwargs\u001b[0m\u001b[1;33m.\u001b[0m\u001b[0mpop\u001b[0m\u001b[1;33m(\u001b[0m\u001b[1;34m\"split_query_by\"\u001b[0m\u001b[1;33m,\u001b[0m \u001b[1;32mNone\u001b[0m\u001b[1;33m)\u001b[0m\u001b[1;33m\u001b[0m\u001b[1;33m\u001b[0m\u001b[0m\n",
      "\u001b[1;31mValueError\u001b[0m: No values found for these parameters: ['event_list']"
     ]
    }
   ],
   "source": [
    "my_qry_prov.CustomQueries.list_events_by_id()"
   ]
  },
  {
   "cell_type": "code",
   "execution_count": 12,
   "metadata": {},
   "outputs": [
    {
     "data": {
      "text/html": "<div>\n<style scoped>\n    .dataframe tbody tr th:only-of-type {\n        vertical-align: middle;\n    }\n\n    .dataframe tbody tr th {\n        vertical-align: top;\n    }\n\n    .dataframe thead th {\n        text-align: right;\n    }\n</style>\n<table border=\"1\" class=\"dataframe\">\n  <thead>\n    <tr style=\"text-align: right;\">\n      <th></th>\n      <th>TenantId</th>\n      <th>TimeGenerated</th>\n      <th>SourceSystem</th>\n      <th>Account</th>\n      <th>AccountType</th>\n      <th>Computer</th>\n      <th>EventSourceName</th>\n      <th>Channel</th>\n      <th>Task</th>\n      <th>Level</th>\n      <th>EventData</th>\n      <th>EventID</th>\n      <th>Activity</th>\n      <th>SourceComputerId</th>\n      <th>EventOriginId</th>\n      <th>MG</th>\n      <th>TimeCollected</th>\n      <th>ManagementGroupName</th>\n      <th>AccessList</th>\n      <th>AccessMask</th>\n      <th>AccessReason</th>\n      <th>AccountDomain</th>\n      <th>AccountExpires</th>\n      <th>AccountName</th>\n      <th>AccountSessionIdentifier</th>\n      <th>...</th>\n      <th>TargetUserName</th>\n      <th>TargetUserSid</th>\n      <th>TemplateContent</th>\n      <th>TemplateDSObjectFQDN</th>\n      <th>TemplateInternalName</th>\n      <th>TemplateOID</th>\n      <th>TemplateSchemaVersion</th>\n      <th>TemplateVersion</th>\n      <th>TokenElevationType</th>\n      <th>TransmittedServices</th>\n      <th>UserAccountControl</th>\n      <th>UserParameters</th>\n      <th>UserPrincipalName</th>\n      <th>UserWorkstations</th>\n      <th>VirtualAccount</th>\n      <th>VendorIds</th>\n      <th>Workstation</th>\n      <th>WorkstationName</th>\n      <th>PartitionKey</th>\n      <th>RowKey</th>\n      <th>StorageAccount</th>\n      <th>AzureDeploymentID</th>\n      <th>AzureTableName</th>\n      <th>Type</th>\n      <th>_ResourceId</th>\n    </tr>\n  </thead>\n  <tbody>\n    <tr>\n      <th>0</th>\n      <td>8ecf8077-cf51-4820-aadd-14040956f35d</td>\n      <td>2021-05-20 20:18:36.057000+00:00</td>\n      <td>OpsManager</td>\n      <td></td>\n      <td></td>\n      <td>VictimPC2</td>\n      <td>Microsoft-Windows-Security-Auditing</td>\n      <td>Security</td>\n      <td>12292</td>\n      <td>8</td>\n      <td>&lt;EventData xmlns=\"http://schemas.microsoft.com/win/2004/08/events/event\"&gt;\\r\\n  &lt;Data Name=\"Subje...</td>\n      <td>5058</td>\n      <td>5058 - Key file operation.</td>\n      <td>0b31dee3-5401-43d7-802a-7c8aab820390</td>\n      <td>3d9dce53-342e-4297-9651-884e8c3c23d8</td>\n      <td>00000000-0000-0000-0000-000000000001</td>\n      <td>2021-05-20 20:19:07.092000+00:00</td>\n      <td>AOI-8ecf8077-cf51-4820-aadd-14040956f35d</td>\n      <td></td>\n      <td></td>\n      <td></td>\n      <td></td>\n      <td></td>\n      <td></td>\n      <td></td>\n      <td>...</td>\n      <td></td>\n      <td></td>\n      <td></td>\n      <td></td>\n      <td></td>\n      <td></td>\n      <td></td>\n      <td></td>\n      <td></td>\n      <td></td>\n      <td></td>\n      <td></td>\n      <td></td>\n      <td></td>\n      <td></td>\n      <td></td>\n      <td></td>\n      <td></td>\n      <td></td>\n      <td></td>\n      <td></td>\n      <td></td>\n      <td></td>\n      <td>SecurityEvent</td>\n      <td>/subscriptions/d1d8779d-38d7-4f06-91db-9cbc8de0176f/resourcegroups/defendtheflag/providers/micro...</td>\n    </tr>\n    <tr>\n      <th>1</th>\n      <td>8ecf8077-cf51-4820-aadd-14040956f35d</td>\n      <td>2021-05-20 20:18:47.053000+00:00</td>\n      <td>OpsManager</td>\n      <td></td>\n      <td></td>\n      <td>VictimPC2</td>\n      <td>Microsoft-Windows-Security-Auditing</td>\n      <td>Security</td>\n      <td>12292</td>\n      <td>8</td>\n      <td>&lt;EventData xmlns=\"http://schemas.microsoft.com/win/2004/08/events/event\"&gt;\\r\\n  &lt;Data Name=\"Subje...</td>\n      <td>5058</td>\n      <td>5058 - Key file operation.</td>\n      <td>0b31dee3-5401-43d7-802a-7c8aab820390</td>\n      <td>25803ca6-f66a-46be-9899-ecd97d9f73a6</td>\n      <td>00000000-0000-0000-0000-000000000001</td>\n      <td>2021-05-20 20:19:07.092000+00:00</td>\n      <td>AOI-8ecf8077-cf51-4820-aadd-14040956f35d</td>\n      <td></td>\n      <td></td>\n      <td></td>\n      <td></td>\n      <td></td>\n      <td></td>\n      <td></td>\n      <td>...</td>\n      <td></td>\n      <td></td>\n      <td></td>\n      <td></td>\n      <td></td>\n      <td></td>\n      <td></td>\n      <td></td>\n      <td></td>\n      <td></td>\n      <td></td>\n      <td></td>\n      <td></td>\n      <td></td>\n      <td></td>\n      <td></td>\n      <td></td>\n      <td></td>\n      <td></td>\n      <td></td>\n      <td></td>\n      <td></td>\n      <td></td>\n      <td>SecurityEvent</td>\n      <td>/subscriptions/d1d8779d-38d7-4f06-91db-9cbc8de0176f/resourcegroups/defendtheflag/providers/micro...</td>\n    </tr>\n    <tr>\n      <th>2</th>\n      <td>8ecf8077-cf51-4820-aadd-14040956f35d</td>\n      <td>2021-05-20 20:18:59.057000+00:00</td>\n      <td>OpsManager</td>\n      <td></td>\n      <td></td>\n      <td>VictimPC2</td>\n      <td>Microsoft-Windows-Security-Auditing</td>\n      <td>Security</td>\n      <td>12292</td>\n      <td>8</td>\n      <td>&lt;EventData xmlns=\"http://schemas.microsoft.com/win/2004/08/events/event\"&gt;\\r\\n  &lt;Data Name=\"Subje...</td>\n      <td>5058</td>\n      <td>5058 - Key file operation.</td>\n      <td>0b31dee3-5401-43d7-802a-7c8aab820390</td>\n      <td>fce6531f-9119-4d3c-8013-bc2fb44086fe</td>\n      <td>00000000-0000-0000-0000-000000000001</td>\n      <td>2021-05-20 20:19:07.092000+00:00</td>\n      <td>AOI-8ecf8077-cf51-4820-aadd-14040956f35d</td>\n      <td></td>\n      <td></td>\n      <td></td>\n      <td></td>\n      <td></td>\n      <td></td>\n      <td></td>\n      <td>...</td>\n      <td></td>\n      <td></td>\n      <td></td>\n      <td></td>\n      <td></td>\n      <td></td>\n      <td></td>\n      <td></td>\n      <td></td>\n      <td></td>\n      <td></td>\n      <td></td>\n      <td></td>\n      <td></td>\n      <td></td>\n      <td></td>\n      <td></td>\n      <td></td>\n      <td></td>\n      <td></td>\n      <td></td>\n      <td></td>\n      <td></td>\n      <td>SecurityEvent</td>\n      <td>/subscriptions/d1d8779d-38d7-4f06-91db-9cbc8de0176f/resourcegroups/defendtheflag/providers/micro...</td>\n    </tr>\n  </tbody>\n</table>\n<p>3 rows × 225 columns</p>\n</div>",
      "text/plain": "                               TenantId                    TimeGenerated  \\\n0  8ecf8077-cf51-4820-aadd-14040956f35d 2021-05-20 20:18:36.057000+00:00   \n1  8ecf8077-cf51-4820-aadd-14040956f35d 2021-05-20 20:18:47.053000+00:00   \n2  8ecf8077-cf51-4820-aadd-14040956f35d 2021-05-20 20:18:59.057000+00:00   \n\n  SourceSystem Account AccountType   Computer  \\\n0   OpsManager                      VictimPC2   \n1   OpsManager                      VictimPC2   \n2   OpsManager                      VictimPC2   \n\n                       EventSourceName   Channel   Task Level  \\\n0  Microsoft-Windows-Security-Auditing  Security  12292     8   \n1  Microsoft-Windows-Security-Auditing  Security  12292     8   \n2  Microsoft-Windows-Security-Auditing  Security  12292     8   \n\n                                                                                             EventData  \\\n0  <EventData xmlns=\"http://schemas.microsoft.com/win/2004/08/events/event\">\\r\\n  <Data Name=\"Subje...   \n1  <EventData xmlns=\"http://schemas.microsoft.com/win/2004/08/events/event\">\\r\\n  <Data Name=\"Subje...   \n2  <EventData xmlns=\"http://schemas.microsoft.com/win/2004/08/events/event\">\\r\\n  <Data Name=\"Subje...   \n\n   EventID                    Activity                      SourceComputerId  \\\n0     5058  5058 - Key file operation.  0b31dee3-5401-43d7-802a-7c8aab820390   \n1     5058  5058 - Key file operation.  0b31dee3-5401-43d7-802a-7c8aab820390   \n2     5058  5058 - Key file operation.  0b31dee3-5401-43d7-802a-7c8aab820390   \n\n                          EventOriginId                                    MG  \\\n0  3d9dce53-342e-4297-9651-884e8c3c23d8  00000000-0000-0000-0000-000000000001   \n1  25803ca6-f66a-46be-9899-ecd97d9f73a6  00000000-0000-0000-0000-000000000001   \n2  fce6531f-9119-4d3c-8013-bc2fb44086fe  00000000-0000-0000-0000-000000000001   \n\n                     TimeCollected                       ManagementGroupName  \\\n0 2021-05-20 20:19:07.092000+00:00  AOI-8ecf8077-cf51-4820-aadd-14040956f35d   \n1 2021-05-20 20:19:07.092000+00:00  AOI-8ecf8077-cf51-4820-aadd-14040956f35d   \n2 2021-05-20 20:19:07.092000+00:00  AOI-8ecf8077-cf51-4820-aadd-14040956f35d   \n\n  AccessList AccessMask AccessReason AccountDomain AccountExpires AccountName  \\\n0                                                                               \n1                                                                               \n2                                                                               \n\n  AccountSessionIdentifier  ... TargetUserName TargetUserSid TemplateContent  \\\n0                           ...                                                \n1                           ...                                                \n2                           ...                                                \n\n  TemplateDSObjectFQDN TemplateInternalName  TemplateOID  \\\n0                                                          \n1                                                          \n2                                                          \n\n   TemplateSchemaVersion TemplateVersion TokenElevationType  \\\n0                                                             \n1                                                             \n2                                                             \n\n  TransmittedServices  UserAccountControl UserParameters UserPrincipalName  \\\n0                                                                            \n1                                                                            \n2                                                                            \n\n  UserWorkstations VirtualAccount VendorIds Workstation WorkstationName  \\\n0                                                                         \n1                                                                         \n2                                                                         \n\n  PartitionKey RowKey StorageAccount AzureDeploymentID AzureTableName  \\\n0                                                                       \n1                                                                       \n2                                                                       \n\n            Type  \\\n0  SecurityEvent   \n1  SecurityEvent   \n2  SecurityEvent   \n\n                                                                                           _ResourceId  \n0  /subscriptions/d1d8779d-38d7-4f06-91db-9cbc8de0176f/resourcegroups/defendtheflag/providers/micro...  \n1  /subscriptions/d1d8779d-38d7-4f06-91db-9cbc8de0176f/resourcegroups/defendtheflag/providers/micro...  \n2  /subscriptions/d1d8779d-38d7-4f06-91db-9cbc8de0176f/resourcegroups/defendtheflag/providers/micro...  \n\n[3 rows x 225 columns]"
     },
     "execution_count": 12,
     "metadata": {},
     "output_type": "execute_result"
    }
   ],
   "source": [
    "my_qry_prov.CustomQueries.list_events_by_id(event_list=[4672, 5058]).head(3)"
   ]
  },
  {
   "cell_type": "code",
   "execution_count": 13,
   "metadata": {},
   "outputs": [
    {
     "data": {
      "application/vnd.jupyter.widget-view+json": {
       "model_id": "5a836bf89ccd4bb9bd3deed5fb1c608f",
       "version_major": 2,
       "version_minor": 0
      },
      "text/plain": "VBox(children=(HTML(value='<h4>Set query time boundaries</h4>'), HBox(children=(DatePicker(value=datetime.date…"
     },
     "metadata": {},
     "output_type": "display_data"
    }
   ],
   "source": [
    "q_times = nbwidgets.QueryTime(units=\"min\", origin_time=pd.Timestamp(\"2021-05-04\"))\n",
    "q_times"
   ]
  },
  {
   "cell_type": "code",
   "execution_count": 14,
   "metadata": {},
   "outputs": [
    {
     "name": "stdout",
     "output_type": "stream",
     "text": [
      "start 2021-05-03 23:00:00 end 2021-05-04 01:00:00\n"
     ]
    },
    {
     "data": {
      "text/html": "<div>\n<style scoped>\n    .dataframe tbody tr th:only-of-type {\n        vertical-align: middle;\n    }\n\n    .dataframe tbody tr th {\n        vertical-align: top;\n    }\n\n    .dataframe thead th {\n        text-align: right;\n    }\n</style>\n<table border=\"1\" class=\"dataframe\">\n  <thead>\n    <tr style=\"text-align: right;\">\n      <th></th>\n      <th>TenantId</th>\n      <th>TimeGenerated</th>\n      <th>SourceSystem</th>\n      <th>Account</th>\n      <th>AccountType</th>\n      <th>Computer</th>\n      <th>EventSourceName</th>\n      <th>Channel</th>\n      <th>Task</th>\n      <th>Level</th>\n      <th>EventData</th>\n      <th>EventID</th>\n      <th>Activity</th>\n      <th>SourceComputerId</th>\n      <th>EventOriginId</th>\n      <th>MG</th>\n      <th>TimeCollected</th>\n      <th>ManagementGroupName</th>\n      <th>AccessList</th>\n      <th>AccessMask</th>\n      <th>AccessReason</th>\n      <th>AccountDomain</th>\n      <th>AccountExpires</th>\n      <th>AccountName</th>\n      <th>AccountSessionIdentifier</th>\n      <th>...</th>\n      <th>TargetUserName</th>\n      <th>TargetUserSid</th>\n      <th>TemplateContent</th>\n      <th>TemplateDSObjectFQDN</th>\n      <th>TemplateInternalName</th>\n      <th>TemplateOID</th>\n      <th>TemplateSchemaVersion</th>\n      <th>TemplateVersion</th>\n      <th>TokenElevationType</th>\n      <th>TransmittedServices</th>\n      <th>UserAccountControl</th>\n      <th>UserParameters</th>\n      <th>UserPrincipalName</th>\n      <th>UserWorkstations</th>\n      <th>VirtualAccount</th>\n      <th>VendorIds</th>\n      <th>Workstation</th>\n      <th>WorkstationName</th>\n      <th>PartitionKey</th>\n      <th>RowKey</th>\n      <th>StorageAccount</th>\n      <th>AzureDeploymentID</th>\n      <th>AzureTableName</th>\n      <th>Type</th>\n      <th>_ResourceId</th>\n    </tr>\n  </thead>\n  <tbody>\n    <tr>\n      <th>0</th>\n      <td>8ecf8077-cf51-4820-aadd-14040956f35d</td>\n      <td>2021-05-04 00:57:35.793000+00:00</td>\n      <td>OpsManager</td>\n      <td>NT AUTHORITY\\SYSTEM</td>\n      <td>Machine</td>\n      <td>VictimPC2</td>\n      <td>Microsoft-Windows-Security-Auditing</td>\n      <td>Security</td>\n      <td>12548</td>\n      <td>8</td>\n      <td></td>\n      <td>4672</td>\n      <td>4672 - Special privileges assigned to new logon.</td>\n      <td>0b31dee3-5401-43d7-802a-7c8aab820390</td>\n      <td>ef28ed78-74c6-4187-acd3-e39718db52c7</td>\n      <td>00000000-0000-0000-0000-000000000001</td>\n      <td>2021-05-04 00:58:07.048000+00:00</td>\n      <td>AOI-8ecf8077-cf51-4820-aadd-14040956f35d</td>\n      <td></td>\n      <td></td>\n      <td></td>\n      <td></td>\n      <td></td>\n      <td></td>\n      <td></td>\n      <td>...</td>\n      <td></td>\n      <td></td>\n      <td></td>\n      <td></td>\n      <td></td>\n      <td></td>\n      <td></td>\n      <td></td>\n      <td></td>\n      <td></td>\n      <td></td>\n      <td></td>\n      <td></td>\n      <td></td>\n      <td></td>\n      <td></td>\n      <td></td>\n      <td></td>\n      <td></td>\n      <td></td>\n      <td></td>\n      <td></td>\n      <td></td>\n      <td>SecurityEvent</td>\n      <td>/subscriptions/d1d8779d-38d7-4f06-91db-9cbc8de0176f/resourcegroups/defendtheflag/providers/micro...</td>\n    </tr>\n    <tr>\n      <th>1</th>\n      <td>8ecf8077-cf51-4820-aadd-14040956f35d</td>\n      <td>2021-05-04 00:57:36.057000+00:00</td>\n      <td>OpsManager</td>\n      <td></td>\n      <td></td>\n      <td>VictimPC2</td>\n      <td>Microsoft-Windows-Security-Auditing</td>\n      <td>Security</td>\n      <td>12292</td>\n      <td>8</td>\n      <td>&lt;EventData xmlns=\"http://schemas.microsoft.com/win/2004/08/events/event\"&gt;\\r\\n  &lt;Data Name=\"Subje...</td>\n      <td>5058</td>\n      <td>5058 - Key file operation.</td>\n      <td>0b31dee3-5401-43d7-802a-7c8aab820390</td>\n      <td>c87a50c6-b60f-4202-8a67-62a1b4ed6ffe</td>\n      <td>00000000-0000-0000-0000-000000000001</td>\n      <td>2021-05-04 00:58:07.048000+00:00</td>\n      <td>AOI-8ecf8077-cf51-4820-aadd-14040956f35d</td>\n      <td></td>\n      <td></td>\n      <td></td>\n      <td></td>\n      <td></td>\n      <td></td>\n      <td></td>\n      <td>...</td>\n      <td></td>\n      <td></td>\n      <td></td>\n      <td></td>\n      <td></td>\n      <td></td>\n      <td></td>\n      <td></td>\n      <td></td>\n      <td></td>\n      <td></td>\n      <td></td>\n      <td></td>\n      <td></td>\n      <td></td>\n      <td></td>\n      <td></td>\n      <td></td>\n      <td></td>\n      <td></td>\n      <td></td>\n      <td></td>\n      <td></td>\n      <td>SecurityEvent</td>\n      <td>/subscriptions/d1d8779d-38d7-4f06-91db-9cbc8de0176f/resourcegroups/defendtheflag/providers/micro...</td>\n    </tr>\n    <tr>\n      <th>2</th>\n      <td>8ecf8077-cf51-4820-aadd-14040956f35d</td>\n      <td>2021-05-04 00:57:40.020000+00:00</td>\n      <td>OpsManager</td>\n      <td>NT AUTHORITY\\SYSTEM</td>\n      <td>Machine</td>\n      <td>VictimPC2</td>\n      <td>Microsoft-Windows-Security-Auditing</td>\n      <td>Security</td>\n      <td>12548</td>\n      <td>8</td>\n      <td></td>\n      <td>4672</td>\n      <td>4672 - Special privileges assigned to new logon.</td>\n      <td>0b31dee3-5401-43d7-802a-7c8aab820390</td>\n      <td>70835f0d-d4de-4567-8065-13698d0fc154</td>\n      <td>00000000-0000-0000-0000-000000000001</td>\n      <td>2021-05-04 00:58:07.048000+00:00</td>\n      <td>AOI-8ecf8077-cf51-4820-aadd-14040956f35d</td>\n      <td></td>\n      <td></td>\n      <td></td>\n      <td></td>\n      <td></td>\n      <td></td>\n      <td></td>\n      <td>...</td>\n      <td></td>\n      <td></td>\n      <td></td>\n      <td></td>\n      <td></td>\n      <td></td>\n      <td></td>\n      <td></td>\n      <td></td>\n      <td></td>\n      <td></td>\n      <td></td>\n      <td></td>\n      <td></td>\n      <td></td>\n      <td></td>\n      <td></td>\n      <td></td>\n      <td></td>\n      <td></td>\n      <td></td>\n      <td></td>\n      <td></td>\n      <td>SecurityEvent</td>\n      <td>/subscriptions/d1d8779d-38d7-4f06-91db-9cbc8de0176f/resourcegroups/defendtheflag/providers/micro...</td>\n    </tr>\n  </tbody>\n</table>\n<p>3 rows × 225 columns</p>\n</div>",
      "text/plain": "                               TenantId                    TimeGenerated  \\\n0  8ecf8077-cf51-4820-aadd-14040956f35d 2021-05-04 00:57:35.793000+00:00   \n1  8ecf8077-cf51-4820-aadd-14040956f35d 2021-05-04 00:57:36.057000+00:00   \n2  8ecf8077-cf51-4820-aadd-14040956f35d 2021-05-04 00:57:40.020000+00:00   \n\n  SourceSystem              Account AccountType   Computer  \\\n0   OpsManager  NT AUTHORITY\\SYSTEM     Machine  VictimPC2   \n1   OpsManager                                   VictimPC2   \n2   OpsManager  NT AUTHORITY\\SYSTEM     Machine  VictimPC2   \n\n                       EventSourceName   Channel   Task Level  \\\n0  Microsoft-Windows-Security-Auditing  Security  12548     8   \n1  Microsoft-Windows-Security-Auditing  Security  12292     8   \n2  Microsoft-Windows-Security-Auditing  Security  12548     8   \n\n                                                                                             EventData  \\\n0                                                                                                        \n1  <EventData xmlns=\"http://schemas.microsoft.com/win/2004/08/events/event\">\\r\\n  <Data Name=\"Subje...   \n2                                                                                                        \n\n   EventID                                          Activity  \\\n0     4672  4672 - Special privileges assigned to new logon.   \n1     5058                        5058 - Key file operation.   \n2     4672  4672 - Special privileges assigned to new logon.   \n\n                       SourceComputerId                         EventOriginId  \\\n0  0b31dee3-5401-43d7-802a-7c8aab820390  ef28ed78-74c6-4187-acd3-e39718db52c7   \n1  0b31dee3-5401-43d7-802a-7c8aab820390  c87a50c6-b60f-4202-8a67-62a1b4ed6ffe   \n2  0b31dee3-5401-43d7-802a-7c8aab820390  70835f0d-d4de-4567-8065-13698d0fc154   \n\n                                     MG                    TimeCollected  \\\n0  00000000-0000-0000-0000-000000000001 2021-05-04 00:58:07.048000+00:00   \n1  00000000-0000-0000-0000-000000000001 2021-05-04 00:58:07.048000+00:00   \n2  00000000-0000-0000-0000-000000000001 2021-05-04 00:58:07.048000+00:00   \n\n                        ManagementGroupName AccessList AccessMask  \\\n0  AOI-8ecf8077-cf51-4820-aadd-14040956f35d                         \n1  AOI-8ecf8077-cf51-4820-aadd-14040956f35d                         \n2  AOI-8ecf8077-cf51-4820-aadd-14040956f35d                         \n\n  AccessReason AccountDomain AccountExpires AccountName  \\\n0                                                         \n1                                                         \n2                                                         \n\n  AccountSessionIdentifier  ... TargetUserName TargetUserSid TemplateContent  \\\n0                           ...                                                \n1                           ...                                                \n2                           ...                                                \n\n  TemplateDSObjectFQDN TemplateInternalName  TemplateOID  \\\n0                                                          \n1                                                          \n2                                                          \n\n   TemplateSchemaVersion TemplateVersion TokenElevationType  \\\n0                                                             \n1                                                             \n2                                                             \n\n  TransmittedServices  UserAccountControl UserParameters UserPrincipalName  \\\n0                                                                            \n1                                                                            \n2                                                                            \n\n  UserWorkstations VirtualAccount VendorIds Workstation WorkstationName  \\\n0                                                                         \n1                                                                         \n2                                                                         \n\n  PartitionKey RowKey StorageAccount AzureDeploymentID AzureTableName  \\\n0                                                                       \n1                                                                       \n2                                                                       \n\n            Type  \\\n0  SecurityEvent   \n1  SecurityEvent   \n2  SecurityEvent   \n\n                                                                                           _ResourceId  \n0  /subscriptions/d1d8779d-38d7-4f06-91db-9cbc8de0176f/resourcegroups/defendtheflag/providers/micro...  \n1  /subscriptions/d1d8779d-38d7-4f06-91db-9cbc8de0176f/resourcegroups/defendtheflag/providers/micro...  \n2  /subscriptions/d1d8779d-38d7-4f06-91db-9cbc8de0176f/resourcegroups/defendtheflag/providers/micro...  \n\n[3 rows x 225 columns]"
     },
     "execution_count": 14,
     "metadata": {},
     "output_type": "execute_result"
    }
   ],
   "source": [
    "print(\"start\", q_times.start, \"end\", q_times.end)\n",
    "my_qry_prov.CustomQueries.list_events_by_id(q_times, event_list=[4672, 5058]).head(3)"
   ]
  },
  {
   "cell_type": "markdown",
   "metadata": {},
   "source": [
    "<h2 style=\"color: White; background-color: DarkSlateBlue; padding: 10px\">Adding the query so it is always loaded</h2>\n",
    "\n",
    "- Put the query(ies) in a folder\n",
    "- Add a `Custom` item to the `QueryDefinitions` section in `msticpyconfig.yaml`\n",
    "\n",
    "> **Note**: the entry must be a list (prefix each item with \"-\" even if there is only one path.\n",
    "\n",
    "```yaml\n",
    "...\n",
    "  IPStack:\n",
    "    Args:\n",
    "      AuthKey:\n",
    "        KeyVault: null\n",
    "    Provider: IPStackLookup\n",
    "QueryDefinitions:\n",
    "  Custom:\n",
    "    - /etc/msticpy/queries\n",
    "    - ~/my_queries\n",
    "TIProviders:\n",
    "  OTX:\n",
    "    Args:\n",
    "      AuthKey:\n",
    "      ...\n",
    "```"
   ]
  },
  {
   "cell_type": "markdown",
   "metadata": {},
   "source": [
    "<h2 style=\"color: White; background-color: DarkSlateBlue; padding: 10px\">Multiple queries</h2>"
   ]
  },
  {
   "cell_type": "code",
   "execution_count": 15,
   "metadata": {},
   "outputs": [],
   "source": [
    "query_def2 = \"\"\"\n",
    "metadata:\n",
    "  version: 1\n",
    "  description: Security event queries\n",
    "  data_environments: [AzureSentinel]\n",
    "  data_families: [CustomQueries]\n",
    "  tags: ['windows', 'event', 'security']\n",
    "defaults:\n",
    "  metadata:\n",
    "  parameters:\n",
    "    table:\n",
    "      description: The name of the source table\n",
    "      type: str\n",
    "      default: SecurityEvent\n",
    "    start:\n",
    "      description: start of the query\n",
    "      type: datetime\n",
    "      default: -1\n",
    "    end:\n",
    "      description: end of the query\n",
    "      type: datetime\n",
    "      default: 0\n",
    "    add_query_items:\n",
    "        description: Additional query clauses (precede with \"|\")\n",
    "        type: str\n",
    "        default: \"\"\n",
    "sources:\n",
    "  list_events_by_id:\n",
    "    description: Retrieves list of events on a host\n",
    "    args:\n",
    "      query: '\n",
    "        {table}\n",
    "        | where EventID in ({event_list})\n",
    "        | where TimeGenerated >= datetime({start})\n",
    "        | where TimeGenerated <= datetime({end})\n",
    "        {add_query_items}'\n",
    "    parameters:\n",
    "      event_list:\n",
    "        description: List of event IDs to match\n",
    "        type: list\n",
    "  list_events_by_host:\n",
    "    metadata:\n",
    "      data_families: [CustomQueries_Host]\n",
    "    description: Retrieves list of events on a host\n",
    "    args:\n",
    "      query: '\n",
    "        {table}\n",
    "        | where Computer has ({host_name})\n",
    "        | where TimeGenerated >= datetime({start})\n",
    "        | where TimeGenerated <= datetime({end})\n",
    "        {add_query_items}'\n",
    "    parameters:\n",
    "      host_name:\n",
    "        description: Name (or partial name) of host to search for.\n",
    "        type: str\n",
    "      \n",
    "\"\"\""
   ]
  },
  {
   "cell_type": "code",
   "execution_count": 16,
   "metadata": {},
   "outputs": [
    {
     "data": {
      "text/plain": "1468"
     },
     "execution_count": 16,
     "metadata": {},
     "output_type": "execute_result"
    }
   ],
   "source": [
    "\n",
    "qry_file2 = Path(\"./queries\").joinpath(\"az_sent_eventqueries.yaml\")\n",
    "qry_file2.write_text(query_def2)\n"
   ]
  },
  {
   "cell_type": "code",
   "execution_count": 17,
   "metadata": {},
   "outputs": [
    {
     "data": {
      "text/plain": "['AzureNetwork.list_azure_network_flows_by_host',\n 'AzureNetwork.list_azure_network_flows_by_ip',\n 'AzureSentinel.get_bookmark_by_id',\n 'AzureSentinel.get_bookmark_by_name',\n 'AzureSentinel.list_bookmarks',\n 'AzureSentinel.list_bookmarks_for_entity',\n 'AzureSentinel.list_bookmarks_for_tags',\n 'CustomQueries.list_events_by_id',\n 'CustomQueries_Host.list_events_by_host',\n 'Heartbeat.get_heartbeat_for_host']"
     },
     "execution_count": 17,
     "metadata": {},
     "output_type": "execute_result"
    }
   ],
   "source": [
    "my_qry_prov = QueryProvider(\"AzureSentinel\", query_paths=[\"./queries\"])\n",
    "my_qry_prov.connect(WorkspaceConfig(workspace=\"CyberSecuritySoc\"))\n",
    "my_qry_prov.list_queries()[18:28]\n",
    "# help(filter)"
   ]
  },
  {
   "cell_type": "markdown",
   "metadata": {},
   "source": [
    "<h3 style=\"color: White; background-color: DarkSlateGray; padding: 5px\">Debugging a query</h3>"
   ]
  },
  {
   "cell_type": "code",
   "execution_count": 18,
   "metadata": {},
   "outputs": [
    {
     "data": {
      "text/plain": "' SecurityEvent | where Computer has (victimpc) | where TimeGenerated >= datetime(2021-05-03T23:00:00Z) | where TimeGenerated <= datetime(2021-05-04T01:00:00Z) '"
     },
     "execution_count": 18,
     "metadata": {},
     "output_type": "execute_result"
    }
   ],
   "source": [
    "my_qry_prov.CustomQueries_Host.list_events_by_host(\"print\", q_times, host_name=\"victimpc\")"
   ]
  },
  {
   "cell_type": "markdown",
   "metadata": {},
   "source": [
    "<h3 style=\"color: White; background-color: DarkSlateGray; padding: 5px\">Read more</h3>\n",
    "\n",
    "### https://msticpy.readthedocs.io/en/latest/data_acquisition/DataProviders.html#creating-new-queries"
   ]
  },
  {
   "cell_type": "markdown",
   "metadata": {},
   "source": [
    "---\n",
    "\n",
    "<h1 style=\"border: 1px solid;color: White; background-color: DarkSlateGray; padding: 10px\">Pivot functions</h1>\n",
    "\n",
    "- Find a function\n",
    "- Look at its type signature\n",
    "- Create a registration\n",
    "- Add the function as a Pivot"
   ]
  },
  {
   "cell_type": "code",
   "execution_count": 19,
   "metadata": {},
   "outputs": [
    {
     "name": "stdout",
     "output_type": "stream",
     "text": [
      "Using Open PageRank. See https://www.domcop.com/openpagerank/what-is-openpagerank\n"
     ]
    },
    {
     "data": {
      "text/html": "\nThis product includes GeoLite2 data created by MaxMind, available from\n<a href=\"https://www.maxmind.com\">https://www.maxmind.com</a>.\n",
      "text/plain": "<IPython.core.display.HTML object>"
     },
     "metadata": {},
     "output_type": "display_data"
    },
    {
     "data": {
      "text/html": "\nThis library uses services provided by ipstack.\n<a href=\"https://ipstack.com\">https://ipstack.com</a>",
      "text/plain": "<IPython.core.display.HTML object>"
     },
     "metadata": {},
     "output_type": "display_data"
    },
    {
     "data": {
      "application/vnd.jupyter.widget-view+json": {
       "model_id": "5a2351ad428f45efb135c38e8d107df5",
       "version_major": 2,
       "version_minor": 0
      },
      "text/plain": "VBox(children=(HBox(children=(VBox(children=(HTML(value='<b>Entities</b>'), Select(description='entity', layou…"
     },
     "metadata": {},
     "output_type": "display_data"
    }
   ],
   "source": [
    "pivot = Pivot(namespace=globals())\n",
    "pivot.browse()"
   ]
  },
  {
   "cell_type": "markdown",
   "metadata": {},
   "source": [
    "<h2 style=\"color: White; background-color: DarkSlateBlue; padding: 10px\">Add a simple function</h2>"
   ]
  },
  {
   "cell_type": "code",
   "execution_count": 20,
   "metadata": {},
   "outputs": [
    {
     "data": {
      "text/plain": "OrderedDict([('scheme', 'https'),\n             ('netloc', 'www.youtube.com'),\n             ('path', '/watch'),\n             ('params', ''),\n             ('query', 'v=CmyFcChTc4M'),\n             ('fragment', '')])"
     },
     "execution_count": 20,
     "metadata": {},
     "output_type": "execute_result"
    }
   ],
   "source": [
    "import urllib\n",
    "\n",
    "\n",
    "def split_url(url):\n",
    "    \"\"\"Split url into component parts.\"\"\"\n",
    "    return urllib.parse.urlparse(url)._asdict()\n",
    "\n",
    "\n",
    "split_url(\"https://www.youtube.com/watch?v=CmyFcChTc4M\")"
   ]
  },
  {
   "cell_type": "code",
   "execution_count": 21,
   "metadata": {},
   "outputs": [],
   "source": [
    "from msticpy.datamodel.pivot import Pivot, PivotRegistration\r\n",
    "\r\n",
    "url_func_reg = PivotRegistration(\r\n",
    "    entity_container_name=\"cust_util\",\r\n",
    "    input_type=\"value\",              # A value, list/iterable or dataframe\r\n",
    "    func_input_value_arg=\"url\",      # What is the param name expected by the function\r\n",
    "    func_new_name=\"components\",      # Rename the function?\r\n",
    "    entity_map={\"Url\": \"Url\"},       # Attach to which entities?\r\n",
    ")\r\n",
    "\r\n",
    "Pivot.add_pivot_function(func=split_url, pivot_reg=url_func_reg)"
   ]
  },
  {
   "cell_type": "code",
   "execution_count": 22,
   "metadata": {},
   "outputs": [
    {
     "data": {
      "text/plain": "['AzureSentinel.azsent_bookmarks',\n 'AzureSentinel.azti_list_indicators_by_url',\n 'cust_util.components',\n 'dns_is_resolvable',\n 'dns_resolve',\n 'qry_azsent_bookmarks',\n 'ti.lookup_url',\n 'ti.lookup_url_OTX',\n 'ti.lookup_url_VirusTotal',\n 'ti.lookup_url_XForce',\n 'tilookup_url',\n 'util.b64decode',\n 'util.dns_components',\n 'util.dns_in_abuse_list',\n 'util.dns_is_resolvable',\n 'util.dns_resolve',\n 'util.dns_validate_tld',\n 'util.extract_iocs',\n 'util.url_components',\n 'util.url_screenshot']"
     },
     "execution_count": 22,
     "metadata": {},
     "output_type": "execute_result"
    }
   ],
   "source": [
    "from msticpy.datamodel import entities\r\n",
    "entities.Url.pivots()"
   ]
  },
  {
   "cell_type": "code",
   "execution_count": 23,
   "metadata": {},
   "outputs": [
    {
     "data": {
      "text/html": "<div>\n<style scoped>\n    .dataframe tbody tr th:only-of-type {\n        vertical-align: middle;\n    }\n\n    .dataframe tbody tr th {\n        vertical-align: top;\n    }\n\n    .dataframe thead th {\n        text-align: right;\n    }\n</style>\n<table border=\"1\" class=\"dataframe\">\n  <thead>\n    <tr style=\"text-align: right;\">\n      <th></th>\n      <th>scheme</th>\n      <th>netloc</th>\n      <th>path</th>\n      <th>params</th>\n      <th>query</th>\n      <th>fragment</th>\n      <th>url</th>\n      <th>src_row_index</th>\n    </tr>\n  </thead>\n  <tbody>\n    <tr>\n      <th>0</th>\n      <td>https</td>\n      <td>github.com</td>\n      <td>/microsoft/msticpy</td>\n      <td></td>\n      <td>something=special</td>\n      <td></td>\n      <td>https://github.com/microsoft/msticpy?something=special</td>\n      <td>0</td>\n    </tr>\n  </tbody>\n</table>\n</div>",
      "text/plain": "  scheme      netloc                path params              query fragment  \\\n0  https  github.com  /microsoft/msticpy         something=special            \n\n                                                      url  src_row_index  \n0  https://github.com/microsoft/msticpy?something=special              0  "
     },
     "execution_count": 23,
     "metadata": {},
     "output_type": "execute_result"
    }
   ],
   "source": [
    "entities.Url.cust_util.components(url=\"https://github.com/microsoft/msticpy?something=special\")"
   ]
  },
  {
   "cell_type": "code",
   "execution_count": 24,
   "metadata": {},
   "outputs": [
    {
     "data": {
      "text/html": "<div>\n<style scoped>\n    .dataframe tbody tr th:only-of-type {\n        vertical-align: middle;\n    }\n\n    .dataframe tbody tr th {\n        vertical-align: top;\n    }\n\n    .dataframe thead th {\n        text-align: right;\n    }\n</style>\n<table border=\"1\" class=\"dataframe\">\n  <thead>\n    <tr style=\"text-align: right;\">\n      <th></th>\n      <th>scheme</th>\n      <th>netloc</th>\n      <th>path</th>\n      <th>params</th>\n      <th>query</th>\n      <th>fragment</th>\n      <th>url</th>\n      <th>src_row_index</th>\n    </tr>\n  </thead>\n  <tbody>\n    <tr>\n      <th>0</th>\n      <td>https</td>\n      <td>www.youtube.com</td>\n      <td>/watch</td>\n      <td></td>\n      <td>v=CmyFcChTc4M</td>\n      <td></td>\n      <td>https://www.youtube.com/watch?v=CmyFcChTc4M</td>\n      <td>0</td>\n    </tr>\n    <tr>\n      <th>1</th>\n      <td>https</td>\n      <td>techcommunity.microsoft.com</td>\n      <td>/t5/azure-sentinel/democratize-machine-learning-with-customizable-ml-anomalies/ba-p/2346338</td>\n      <td></td>\n      <td></td>\n      <td></td>\n      <td>https://techcommunity.microsoft.com/t5/azure-sentinel/democratize-machine-learning-with-customiz...</td>\n      <td>1</td>\n    </tr>\n    <tr>\n      <th>2</th>\n      <td>https</td>\n      <td>devblogs.microsoft.com</td>\n      <td>/azure-sdk/python-conda-sdk-preview/</td>\n      <td></td>\n      <td></td>\n      <td>top-row</td>\n      <td>https://devblogs.microsoft.com/azure-sdk/python-conda-sdk-preview/#top-row</td>\n      <td>2</td>\n    </tr>\n    <tr>\n      <th>3</th>\n      <td>https</td>\n      <td>vscode-auth.github.com</td>\n      <td>/</td>\n      <td></td>\n      <td>browser_session_id=401396e1c5809e2d9eb4fd1f52d96193e24e35e125b0187252156fcfde2f914d&amp;code=7ee536e...</td>\n      <td></td>\n      <td>https://vscode-auth.github.com/?browser_session_id=401396e1c5809e2d9eb4fd1f52d96193e24e35e125b01...</td>\n      <td>3</td>\n    </tr>\n    <tr>\n      <th>4</th>\n      <td>http</td>\n      <td>localhost:8888</td>\n      <td>/lab/tree/pycon2021/PyCon-Msticpy.ipynb</td>\n      <td></td>\n      <td></td>\n      <td></td>\n      <td>http://localhost:8888/lab/tree/pycon2021/PyCon-Msticpy.ipynb</td>\n      <td>4</td>\n    </tr>\n  </tbody>\n</table>\n</div>",
      "text/plain": "  scheme                       netloc  \\\n0  https              www.youtube.com   \n1  https  techcommunity.microsoft.com   \n2  https       devblogs.microsoft.com   \n3  https       vscode-auth.github.com   \n4   http               localhost:8888   \n\n                                                                                          path  \\\n0                                                                                       /watch   \n1  /t5/azure-sentinel/democratize-machine-learning-with-customizable-ml-anomalies/ba-p/2346338   \n2                                                         /azure-sdk/python-conda-sdk-preview/   \n3                                                                                            /   \n4                                                      /lab/tree/pycon2021/PyCon-Msticpy.ipynb   \n\n  params  \\\n0          \n1          \n2          \n3          \n4          \n\n                                                                                                 query  \\\n0                                                                                        v=CmyFcChTc4M   \n1                                                                                                        \n2                                                                                                        \n3  browser_session_id=401396e1c5809e2d9eb4fd1f52d96193e24e35e125b0187252156fcfde2f914d&code=7ee536e...   \n4                                                                                                        \n\n  fragment  \\\n0            \n1            \n2  top-row   \n3            \n4            \n\n                                                                                                   url  \\\n0                                                          https://www.youtube.com/watch?v=CmyFcChTc4M   \n1  https://techcommunity.microsoft.com/t5/azure-sentinel/democratize-machine-learning-with-customiz...   \n2                           https://devblogs.microsoft.com/azure-sdk/python-conda-sdk-preview/#top-row   \n3  https://vscode-auth.github.com/?browser_session_id=401396e1c5809e2d9eb4fd1f52d96193e24e35e125b01...   \n4                                         http://localhost:8888/lab/tree/pycon2021/PyCon-Msticpy.ipynb   \n\n   src_row_index  \n0              0  \n1              1  \n2              2  \n3              3  \n4              4  "
     },
     "execution_count": 24,
     "metadata": {},
     "output_type": "execute_result"
    }
   ],
   "source": [
    "urls = [\n",
    "    \"https://www.youtube.com/watch?v=CmyFcChTc4M\",\n",
    "    \"https://techcommunity.microsoft.com/t5/azure-sentinel/democratize-machine-learning-with-customizable-ml-anomalies/ba-p/2346338\",\n",
    "    \"https://devblogs.microsoft.com/azure-sdk/python-conda-sdk-preview/#top-row\",\n",
    "    \"https://vscode-auth.github.com/?browser_session_id=401396e1c5809e2d9eb4fd1f52d96193e24e35e125b0187252156fcfde2f914d&code=7ee536e476696a4cc5c9&state=LqQuTkU4NNKAoefBxkX_83S7l8U%2FeyJhdXRoU2VydmVyIjoiaHR0cHM6Ly9naXRodWIuY29tIiwiY2FsbGJhY2tVcmkiOiJ2c2NvZGU6Ly92c2NvZGUuZ2l0aHViLWF1dGhlbnRpY2F0aW9uL2RpZC1hdXRoZW50aWNhdGU_d2luZG93aWQ9MSIsInJlc3BvbnNlVHlwZSI6ImNvZGUiLCJzdGF0ZSI6IjNmODgzNTUwLWRiYzQtNGM3Zi1iMjE1LTRlYWRlNTdhNDE4YSIsImlkIjoiOjpmZmZmOjEwLjQzLjE4Mi4yMDcifQ\",\n",
    "    \"http://localhost:8888/lab/tree/pycon2021/PyCon-Msticpy.ipynb\"\n",
    "]\n",
    "\n",
    "entities.Url.cust_util.components(urls)"
   ]
  },
  {
   "cell_type": "markdown",
   "metadata": {},
   "source": [
    "<h2 style=\"color: White; background-color: DarkSlateBlue; padding: 10px\">Using pivot functions from external modules</h2>"
   ]
  },
  {
   "cell_type": "markdown",
   "metadata": {},
   "source": [
    "<h3 style=\"color: White; background-color: DarkSlateGray; padding: 5px\">Define functions in a module</h3>"
   ]
  },
  {
   "cell_type": "code",
   "execution_count": 25,
   "metadata": {},
   "outputs": [
    {
     "name": "stdout",
     "output_type": "stream",
     "text": [
      "Overwriting pivot_funcs.py\n"
     ]
    }
   ],
   "source": [
    "%%writefile pivot_funcs.py\n",
    "\"\"\"Custom pivot functions.\"\"\"\n",
    "\n",
    "import urllib\n",
    "\n",
    "def split_url(url: str) -> dict:\n",
    "    \"\"\"Split url into component parts.\"\"\"\n",
    "    return urllib.parse.urlparse(url)._asdict()\n",
    "\n",
    "\n",
    "def is_https(url: str) -> bool:\n",
    "    \"\"\"Return true if URL is https.\"\"\"\n",
    "    url_comps = split_url(url)\n",
    "    return url_comps.get(\"scheme\", \"\").casefold() == \"https\"\n"
   ]
  },
  {
   "cell_type": "markdown",
   "metadata": {},
   "source": [
    "<h3 style=\"color: White; background-color: DarkSlateGray; padding: 5px\">Create a pivot definition file</h3>"
   ]
  },
  {
   "cell_type": "code",
   "execution_count": 26,
   "metadata": {},
   "outputs": [
    {
     "name": "stdout",
     "output_type": "stream",
     "text": [
      "Overwriting pivot_funcs.yaml\n"
     ]
    }
   ],
   "source": [
    "%%writefile pivot_funcs.yaml\n",
    "pivot_providers:\n",
    "  url_comps:\n",
    "    src_module: pivot_funcs\n",
    "    src_func_name: split_url\n",
    "    func_new_name: url_comps\n",
    "    input_type: value\n",
    "    entity_map:\n",
    "      Url: Url\n",
    "    func_input_value_arg: url\n",
    "    entity_container_name: cust_util\n",
    "    create_shortcut: True\n",
    "  is_https:\n",
    "    src_module: pivot_funcs\n",
    "    src_func_name: is_https\n",
    "    input_type: value\n",
    "    entity_map:\n",
    "      Url: Url\n",
    "    func_input_value_arg: url\n",
    "    entity_container_name: cust_util\n",
    "    create_shortcut: True"
   ]
  },
  {
   "cell_type": "code",
   "execution_count": 27,
   "metadata": {},
   "outputs": [],
   "source": [
    "pivot.register_pivot_providers(pivot_reg_path=\"pivot_funcs.yaml\")\n"
   ]
  },
  {
   "cell_type": "code",
   "execution_count": 28,
   "metadata": {},
   "outputs": [
    {
     "data": {
      "text/plain": "['AzureSentinel.azsent_bookmarks',\n 'AzureSentinel.azti_list_indicators_by_url',\n 'cust_util.components',\n 'cust_util.is_https',\n 'cust_util.url_comps',\n 'dns_is_resolvable',\n 'dns_resolve',\n 'is_https',\n 'qry_azsent_bookmarks',\n 'ti.lookup_url',\n 'ti.lookup_url_OTX',\n 'ti.lookup_url_VirusTotal',\n 'ti.lookup_url_XForce',\n 'tilookup_url',\n 'url_comps',\n 'util.b64decode',\n 'util.dns_components',\n 'util.dns_in_abuse_list',\n 'util.dns_is_resolvable',\n 'util.dns_resolve',\n 'util.dns_validate_tld',\n 'util.extract_iocs',\n 'util.url_components',\n 'util.url_screenshot']"
     },
     "execution_count": 28,
     "metadata": {},
     "output_type": "execute_result"
    }
   ],
   "source": [
    "entities.Url.pivots()"
   ]
  },
  {
   "cell_type": "code",
   "execution_count": 29,
   "metadata": {},
   "outputs": [
    {
     "data": {
      "text/html": "<div>\n<style scoped>\n    .dataframe tbody tr th:only-of-type {\n        vertical-align: middle;\n    }\n\n    .dataframe tbody tr th {\n        vertical-align: top;\n    }\n\n    .dataframe thead th {\n        text-align: right;\n    }\n</style>\n<table border=\"1\" class=\"dataframe\">\n  <thead>\n    <tr style=\"text-align: right;\">\n      <th></th>\n      <th>url</th>\n      <th>result</th>\n      <th>src_row_index</th>\n    </tr>\n  </thead>\n  <tbody>\n    <tr>\n      <th>0</th>\n      <td>https://www.youtube.com/watch?v=CmyFcChTc4M</td>\n      <td>True</td>\n      <td>0</td>\n    </tr>\n    <tr>\n      <th>1</th>\n      <td>https://techcommunity.microsoft.com/t5/azure-sentinel/democratize-machine-learning-with-customiz...</td>\n      <td>True</td>\n      <td>1</td>\n    </tr>\n    <tr>\n      <th>2</th>\n      <td>https://devblogs.microsoft.com/azure-sdk/python-conda-sdk-preview/#top-row</td>\n      <td>True</td>\n      <td>2</td>\n    </tr>\n    <tr>\n      <th>3</th>\n      <td>https://vscode-auth.github.com/?browser_session_id=401396e1c5809e2d9eb4fd1f52d96193e24e35e125b01...</td>\n      <td>True</td>\n      <td>3</td>\n    </tr>\n    <tr>\n      <th>4</th>\n      <td>http://localhost:8888/lab/tree/pycon2021/PyCon-Msticpy.ipynb</td>\n      <td>False</td>\n      <td>4</td>\n    </tr>\n  </tbody>\n</table>\n</div>",
      "text/plain": "                                                                                                   url  \\\n0                                                          https://www.youtube.com/watch?v=CmyFcChTc4M   \n1  https://techcommunity.microsoft.com/t5/azure-sentinel/democratize-machine-learning-with-customiz...   \n2                           https://devblogs.microsoft.com/azure-sdk/python-conda-sdk-preview/#top-row   \n3  https://vscode-auth.github.com/?browser_session_id=401396e1c5809e2d9eb4fd1f52d96193e24e35e125b01...   \n4                                         http://localhost:8888/lab/tree/pycon2021/PyCon-Msticpy.ipynb   \n\n  result  src_row_index  \n0   True              0  \n1   True              1  \n2   True              2  \n3   True              3  \n4  False              4  "
     },
     "execution_count": 29,
     "metadata": {},
     "output_type": "execute_result"
    }
   ],
   "source": [
    "entities.Url.is_https(urls)"
   ]
  },
  {
   "cell_type": "code",
   "execution_count": 30,
   "metadata": {},
   "outputs": [
    {
     "data": {
      "text/html": "<h3>url</h3>{&nbsp;'AdditionalData':&nbsp;{},<br>&nbsp;&nbsp;'Type':&nbsp;'url',<br>&nbsp;&nbsp;'Url':&nbsp;'https://www.youtube.com/watch?v=CmyFcChTc4M',<br>&nbsp;&nbsp;'edges':&nbsp;set()}",
      "text/plain": "Url(Url=https://www.youtube.com/watch?v=CmyFcChTc4M, Type=url)"
     },
     "metadata": {},
     "output_type": "display_data"
    }
   ],
   "source": [
    "youtube = entities.Url(Url=\"https://www.youtube.com/watch?v=CmyFcChTc4M\")\r\n",
    "display(youtube)"
   ]
  },
  {
   "cell_type": "code",
   "execution_count": 31,
   "metadata": {},
   "outputs": [
    {
     "data": {
      "text/html": "<div>\n<style scoped>\n    .dataframe tbody tr th:only-of-type {\n        vertical-align: middle;\n    }\n\n    .dataframe tbody tr th {\n        vertical-align: top;\n    }\n\n    .dataframe thead th {\n        text-align: right;\n    }\n</style>\n<table border=\"1\" class=\"dataframe\">\n  <thead>\n    <tr style=\"text-align: right;\">\n      <th></th>\n      <th>url</th>\n      <th>result</th>\n      <th>src_row_index</th>\n    </tr>\n  </thead>\n  <tbody>\n    <tr>\n      <th>0</th>\n      <td>https://www.youtube.com/watch?v=CmyFcChTc4M</td>\n      <td>True</td>\n      <td>0</td>\n    </tr>\n  </tbody>\n</table>\n</div>",
      "text/plain": "                                           url result  src_row_index\n0  https://www.youtube.com/watch?v=CmyFcChTc4M   True              0"
     },
     "execution_count": 31,
     "metadata": {},
     "output_type": "execute_result"
    }
   ],
   "source": [
    "\r\n",
    "youtube.is_https()"
   ]
  },
  {
   "cell_type": "code",
   "execution_count": null,
   "metadata": {},
   "outputs": [],
   "source": [
    "youtube.url_comps()"
   ]
  },
  {
   "cell_type": "markdown",
   "metadata": {},
   "source": [
    "<h3 style=\"color: White; background-color: DarkSlateGray; padding: 5px\">Read more</h3>\n",
    "\n",
    "### https://msticpy.readthedocs.io/en/latest/data_analysis/PivotFunctions.html#customizing-and-managing-pivots"
   ]
  },
  {
   "cell_type": "markdown",
   "metadata": {},
   "source": [
    "---\r\n",
    "\r\n",
    "<h1 style=\"border: 1px solid;color: White; background-color: DarkSlateGray; padding: 10px\">Creating a DataProvider</h1>\r\n",
    "\r\n",
    "![image](images/DataLayer.png)\r\n",
    "\r\n",
    "---\r\n",
    "\r\n",
    "#### Our base class"
   ]
  },
  {
   "cell_type": "code",
   "execution_count": null,
   "metadata": {},
   "outputs": [],
   "source": [
    "# Base class - doc strings removed for brevity\r\n",
    "import abc\r\n",
    "from abc import ABC\r\n",
    "\r\n",
    "class DriverBase(ABC):\r\n",
    "    \"\"\"Base class for data providers.\"\"\"\r\n",
    "\r\n",
    "    def __init__(self, **kwargs):\r\n",
    "        \"\"\"Initialize new instance.\"\"\"\r\n",
    "        self._kwargs = kwargs\r\n",
    "        self._loaded = False\r\n",
    "        self._connected = False\r\n",
    "        self.current_connection = None\r\n",
    "        self.public_attribs: dict = {}\r\n",
    "        self.formatters: dict = {}\r\n",
    "        self.use_query_paths = True\r\n",
    "        self.has_driver_queries = False\r\n",
    "\r\n",
    "    @property\r\n",
    "    def loaded(self) -> bool:\r\n",
    "        return self._loaded\r\n",
    "\r\n",
    "    @property\r\n",
    "    def connected(self) -> bool:\r\n",
    "        return self._connected\r\n",
    "\r\n",
    "    @property\r\n",
    "    def schema(self) -> dict:\r\n",
    "        return {}\r\n",
    "\r\n",
    "    @abc.abstractmethod\r\n",
    "    def connect(self, connection_str: str = None, **kwargs):\r\n",
    "        \"\"\"Implement this\"\"\"\r\n",
    "        return None\r\n",
    "\r\n",
    "    @abc.abstractmethod\r\n",
    "    def query(\r\n",
    "        self, query: str, query_source=None, **kwargs\r\n",
    "    ) -> pd.DataFrame:\r\n",
    "        \"\"\"Implement this\"\"\""
   ]
  },
  {
   "cell_type": "markdown",
   "metadata": {},
   "source": [
    "#### Example dataprovider driver"
   ]
  },
  {
   "cell_type": "code",
   "execution_count": null,
   "metadata": {},
   "outputs": [],
   "source": [
    "# Simple query provider that reads CSVs to a DataFrame\r\n",
    "from pathlib import Path\r\n",
    "\r\n",
    "class CSVDataDriver(DriverBase):\r\n",
    "    \"\"\"Simple query provider that reads CSVs.\"\"\"\r\n",
    "\r\n",
    "    def __init__(self, connection_str: str = None, **kwargs):\r\n",
    "        \"\"\"Instantiate LocalDataDriver and optionally connect.\"\"\"\r\n",
    "        del connection_str\r\n",
    "        super().__init__()\r\n",
    "\r\n",
    "        self._loaded = True\r\n",
    "        self._data_path = connection_str or \".\"\r\n",
    "\r\n",
    "\r\n",
    "    def connect(self, connection_str: str = None, **kwargs):\r\n",
    "        \"\"\"Connect to data source.\"\"\"\r\n",
    "        self._data_path = connection_str or \".\"\r\n",
    "        self._connected = True\r\n",
    "\r\n",
    "    def query(\r\n",
    "        self, query: str, query_source=None, **kwargs\r\n",
    "    ) -> pd.DataFrame:\r\n",
    "        \"\"\"Execute query string and return DataFrame of results.\"\"\"\r\n",
    "        file = Path(self._data_path).joinpath(query_source.source.get(\"file\", \"\"))\r\n",
    "\r\n",
    "        if not file.is_file():\r\n",
    "            raise FileNotFoundError(\r\n",
    "                f\"Data file ({file}) for query {query} not found.\"\r\n",
    "            )\r\n",
    "        \r\n",
    "        return pd.read_csv(file).query(query)\r\n",
    "\r\n",
    "\r\n",
    "# YAML definition\r\n",
    "queries_examples = \"\"\"\r\n",
    "    get_logins_by_type:\r\n",
    "        args:\r\n",
    "            query: '\r\n",
    "                LogonType == {logon_type}\r\n",
    "                '\r\n",
    "        description: Return logon events of a given type\r\n",
    "        file: host_logons.csv\r\n",
    "        params:\r\n",
    "            logon_type:\r\n",
    "                type: \"int\"\r\n",
    "                description: \"Logon Type code\"\r\n",
    "                default: 3\r\n",
    "\"\"\"\r\n",
    "\r\n",
    "# Note - this is an illustration - you need to register the driver\r\n",
    "# with our query provider module before this will work\r\n",
    "# How to use\r\n",
    "qry_prov = QueryProvider(\"CSVDataDriver\")\r\n",
    "qry_prov.connect(\"./data\")\r\n",
    "qry_prov.get_logins_by_type(\"logon_type==3\")"
   ]
  },
  {
   "cell_type": "markdown",
   "metadata": {},
   "source": [
    "---\r\n",
    "\r\n",
    "<h1 style=\"border: 1px solid;color: White; background-color: DarkSlateGray; padding: 10px\">Conclusion</h1>\r\n",
    "\r\n",
    "<ul style=\"font=20px\">\r\n",
    "    <li>MSTICPy has a broad collection of tools useful for Cyber investigators</li>\r\n",
    "    <li>Still growing...and still has some rough edges</li>\r\n",
    "    <li>It is open source, free and data platform-independent</li>\r\n",
    "</ul>\r\n",
    " \r\n",
    "\r\n",
    "---\r\n",
    "\r\n",
    "<h1 style=\"border: 1px solid;color: White; background-color: DarkSlateGray; padding: 10px\">Take-aways</h1>\r\n",
    "\r\n",
    "<ul style=\"font=20px\">\r\n",
    "    <li>Install MSTICPy (and MSTICnb)</li>\r\n",
    "    <li>Try the sample notebooks in MyBinder</li>\r\n",
    "    <li>If you like it, leave us a star on GitHub - https://github.com/microsoft/msticpy</li>\r\n",
    "    <li>Try the MSTICPy lab in our Python labs (swag available) https://github.com/Azure-Samples/azure-python-labs/blob/main/9-MSTICPy/README.md</li>\r\n",
    "    <li>Contribute some code or queries\r\n",
    "        <ul>\r\n",
    "            <li>Much of MSTICPy is extensible (data providers, TI providers, pivots funcs)</li>\r\n",
    "            <li>We're especially keen on better support for data providers, new providers, queries</li>\r\n",
    "        </ul>\r\n",
    "    </li>\r\n",
    "</ul>\r\n",
    "\r\n",
    "---\r\n",
    "\r\n",
    "<h1 style=\"border: 1px solid;color: White; background-color: DarkSlateGray; padding: 10px\">Resources</h1>\r\n",
    "\r\n",
    "## Get this notebook and resources @ https://aka.ms/msticpy-launchspace\r\n",
    "\r\n",
    "[LaunchSpace landing page](https://channel9.msdn.com/Shows/The-Launch-Space/Updates-to-MSTICPy-and-Jupyter-Notebooks-in-Azure-Sentinel)\r\n",
    "\r\n",
    "Documentation and code:\r\n",
    "\r\n",
    "MSTICPy Documentation - https://msticpy.readthedocs.io<br>\r\n",
    "GitHub repo - https://github.com/microsoft/msticpy<br>\r\n",
    "Blog - https://msticpy.medium.com<br>\r\n",
    "Introductory articles\r\n",
    "- <a href=\"https://msticpy.medium.com/msticpy-v1-0-0-and-jupyter-notebooks-in-azure-sentinel-an-update-ac2f6df61f9e?source=friends_link&sk=721420baba0796878bf6c1147a28512d\">MSTICPy overview</a>\r\n",
    "- <a href=\"https://techcommunity.microsoft.com/t5/azure-sentinel/msticpy-and-jupyter-notebooks-in-azure-sentinel-an-update/ba-p/2279661\">MSTICPy overview for Azure Sentinel users</a>\r\n",
    "\r\n",
    "Sample notebooks:\r\n",
    "- https://github.com/microsoft/msticpy/tree/master/docs/notebooks\r\n",
    "- https://github.com/Azure/Azure-Sentinel-Notebooks\r\n",
    "- MSTICPy sample notebooks [![Binder](https://mybinder.org/badge_logo.svg)](https://mybinder.org/v2/gh/microsoft/msticpy/HEAD?filepath=%2Fdocs%2Fnotebooks)\r\n",
    "  Try the EventTimeLine and ProcessTree notebooks\r\n",
    "- Simple machine learning [![Binder](https://mybinder.org/badge_logo.svg)](https://mybinder.org/v2/gh/Azure/Azure-Sentinel-Notebooks/HEAD?filepath=Machine%20Learning%20in%20Notebooks%20Examples.ipynb)\r\n",
    "\r\n",
    "\r\n",
    "<h1 style=\"border: 1px solid;color: White; background-color: DarkSlateGray; padding: 10px\">Contacts</h1>\r\n",
    "\r\n",
    "Email - msticpy@microsoft.com<br>\r\n",
    "Twitter - @ianhellen, @MSSPete (Pete Bryan) @AshwinPatil (Ashwin Patil)<br>\r\n",
    "GitHub - @ianhelle (Note the missing last \"n\"\\), @PeteBryan, @AshwinPatil<br>\r\n",
    "LinkedIn - @ianhellen, @PeteBryan, @AshwinPatil"
   ]
  }
 ],
 "metadata": {
  "kernelspec": {
   "display_name": "Python (condadev)",
   "language": "python",
   "name": "condadev"
  },
  "language_info": {
   "codemirror_mode": {
    "name": "ipython",
    "version": 3
   },
   "file_extension": ".py",
   "mimetype": "text/x-python",
   "name": "python",
   "nbconvert_exporter": "python",
   "pygments_lexer": "ipython3",
   "version": "3.7.10"
  },
  "orig_nbformat": 3
 },
 "nbformat": 4,
 "nbformat_minor": 4
}