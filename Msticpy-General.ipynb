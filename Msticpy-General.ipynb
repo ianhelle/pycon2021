{
 "cells": [
  {
   "cell_type": "markdown",
   "source": [
    "![image](images/MSTIC.png)\n",
    "\n",
    "# MSTICPy - Threat hunting toolkit for Jupyter Notebooks\n",
    "### Ian Hellen, Principal Dev, in Microsoft Threat Intelligence Center (MSTIC)\n",
    "### @ianhellen (twitter), ianhelle@microsoft.com\n"
   ],
   "metadata": {}
  },
  {
   "cell_type": "markdown",
   "source": [
    "---\r\n",
    "\r\n",
    "<h1 style=\"border: 1px solid;color: White; background-color: DarkSlateGray; padding: 10px\">Part 1 - Overview of MSTICPy</h1>\r\n",
    "\r\n",
    "- **Data & Queries** - Getting data into the notebook\r\n",
    "- **A tale from a SOC (Security Operations Center)**<br>\r\n",
    "  How MSTICPy might be used to help you analyze and visualize information<br>\r\n",
    "  that you need to determine whether you're looking at benign or malicious activity.\r\n",
    "  \r\n",
    "  - Network anomalies\r\n",
    "  - Enriching data - find out more about an IP Address\r\n",
    "  - Investigate potentially compromised host\r\n",
    "    - Summary/Logons/Processes and unusual logon sessions\r\n",
    "    \r\n",
    "---\r\n",
    "\r\n",
    "<h2 style=\"color: White; background-color: DarkSlateBlue; padding: 10px\">MSTICPy Recommended notebooks</h2>\r\n",
    "\r\n",
    "<a href=\"https://aka.ms/msticpy-pycon2021\" style=\"font-size: 20px\">https://aka.ms/msticpy-pycon2021</a>\r\n",
    "\r\n",
    "<a href=\"https://aka.ms/msticpy\" style=\"font-size: 20px\">https://aka.ms/msticpy</a>\r\n",
    "\r\n",
    "<a href=\"https://github.com/ianhelle/pycon2021/blob/main/Msticpy-General.ipynb\" style=\"font-size: 20px\">This notebook https://github.com/ianhelle/pycon2021/blob/main/Msticpy-General.ipynb</a>\r\n",
    "\r\n",
    "<a href=\"https://github.com/ianhelle/pycon2021/blob/main/Extending-MSTICPy.ipynb\" style=\"font-size: 20px\">Notebook - Extending MSTICPy</a>\r\n",
    "\r\n",
    "<a href=\"https://nbviewer.jupyter.org/github/Azure/Azure-Sentinel-Notebooks/blob/1b15c7ab98b5aaa5659b431b4f0506927eb1b630/A%20Tour%20of%20Cybersec%20notebook%20features.ipynb\" style=\"font-size: 20px\">Notebook - Quick tour of MSTICPy</a>\r\n",
    "\r\n",
    "---"
   ],
   "metadata": {}
  },
  {
   "cell_type": "markdown",
   "source": [
    "<h3 style=\"color: White; background-color: DarkSlateGray; padding: 5px\">Getting started - We need to intialize a few things</h3>\r\n"
   ],
   "metadata": {}
  },
  {
   "cell_type": "code",
   "execution_count": null,
   "source": [
    "# pip install msticpy\r\n",
    "# pip install msticnb\r\n",
    "\r\n",
    "# Core MSTICPy initialization for Notebooks\r\n",
    "from msticpy.nbtools import nbinit\r\n",
    "nbinit.init_notebook(namespace=globals())\r\n"
   ],
   "outputs": [],
   "metadata": {}
  },
  {
   "cell_type": "markdown",
   "source": [
    "---\n",
    "\n",
    "<h1 style=\"border: 1px solid;color: White; background-color: DarkSlateGray; padding: 10px\">Queries and Data</h1>\n",
    "\n",
    "---\n",
    "\n",
    "## Getting to data may be a bit dull but it's the foundation of security hunting:\n",
    "> “Without big data, you are blind and deaf and in the middle of a freeway.”\n",
    "*Geoffrey Moore*\n",
    "\n",
    "> “In God we trust, all others bring data.”\n",
    "*W Edwards Deming*\n"
   ],
   "metadata": {}
  },
  {
   "cell_type": "markdown",
   "source": [
    "<h2 style=\"color: White; background-color: DarkSlateBlue; padding: 10px\">MSTICPy Data Providers</h2>\n",
    "\n",
    "![image](images/DataLayer.png)\n",
    "\n",
    "https://msticpy.readthedocs.io/en/latest/data_acquisition/DataProviders.html\n",
    "\n",
    "- Usually come with pre-defined queries\n",
    "- Azure Sentinel queries are most developed\n",
    "\n",
    "### Importance of pre-built queries to help analysts!"
   ],
   "metadata": {}
  },
  {
   "cell_type": "code",
   "execution_count": null,
   "source": [
    "from msticpy.data import QueryProvider\r\n",
    "import pandas as pd\r\n",
    "\r\n",
    "# Load query providers (typically you'll be using just one)\r\n",
    "qry_prov_az = QueryProvider(\"AzureSentinel\")\r\n",
    "qry_prov_sp = QueryProvider(\"Splunk\")\r\n",
    "qry_prov_mde = QueryProvider(\"MDE\")\r\n",
    "# Special provider that uses local data files\r\n",
    "qry_prov_loc = QueryProvider(\"LocalData\", data_paths=[\"./data\"], query_paths=[\"./data\"])"
   ],
   "outputs": [],
   "metadata": {}
  },
  {
   "cell_type": "code",
   "execution_count": null,
   "source": [
    "qry_prov_az.browse_queries()"
   ],
   "outputs": [],
   "metadata": {}
  },
  {
   "cell_type": "code",
   "execution_count": null,
   "source": [
    "qry_prov_mde.browse_queries()"
   ],
   "outputs": [],
   "metadata": {}
  },
  {
   "cell_type": "code",
   "execution_count": null,
   "source": [
    "qry_prov_loc.Network.get_network_summary()"
   ],
   "outputs": [],
   "metadata": {}
  },
  {
   "cell_type": "markdown",
   "source": [
    "<h3 style=\"color: White; background-color: DarkOrange; padding: 5px\">Most data providers need authentication</h3>\n",
    "\n",
    "\n",
    "```python<\n",
    "qry_prov.connect(connect_params....)\n",
    "```"
   ],
   "metadata": {}
  },
  {
   "cell_type": "code",
   "execution_count": null,
   "source": [
    "qry_prov_az.connect(WorkspaceConfig(workspace=\"CyberSecuritySoc\"))"
   ],
   "outputs": [],
   "metadata": {}
  },
  {
   "cell_type": "markdown",
   "source": [
    "<h3 style=\"color: White; background-color: DarkOrange; padding: 5px\">Most queries have mandatory parameters</h3>"
   ],
   "metadata": {}
  },
  {
   "cell_type": "code",
   "execution_count": null,
   "source": [
    "qry_prov_loc.WindowsSecurity.list_host_processes()"
   ],
   "outputs": [],
   "metadata": {}
  },
  {
   "cell_type": "code",
   "execution_count": null,
   "source": [
    "qry_prov_loc.WindowsSecurity.list_host_processes(host_name=\"MSTICAlertsWin1\").head(3)"
   ],
   "outputs": [],
   "metadata": {}
  },
  {
   "cell_type": "markdown",
   "source": [
    "<h3 style=\"color: White; background-color: DarkOrange; padding: 5px\">Most queries require time parameters!</h3>\r\n",
    "\r\n",
    "### ....datetime strings are a **pain** to type in and keep track of\r\n",
    "\r\n",
    "### Fortunately there's an easier way to specify time parameters \r\n",
    "\r\n",
    "- use the built-in `query_time` property of the query provider or\r\n",
    "- create an instance of `nbwidgets.QueryTime` class and pass as a parameter"
   ],
   "metadata": {}
  },
  {
   "cell_type": "code",
   "execution_count": null,
   "source": [
    "qry_prov_az.query_time\r\n"
   ],
   "outputs": [],
   "metadata": {}
  },
  {
   "cell_type": "markdown",
   "source": [
    "#### This is a live query against Azure Sentinel"
   ],
   "metadata": {}
  },
  {
   "cell_type": "code",
   "execution_count": null,
   "source": [
    "qry_prov_az.WindowsSecurity.list_host_processes(host_name=\"VictimPC\").head(3)"
   ],
   "outputs": [],
   "metadata": {
    "tags": []
   }
  },
  {
   "cell_type": "markdown",
   "source": [
    "<br>\n",
    "<h3 style=\"color: White; background-color: DarkSlateGray; padding: 5px\">Extending built-in queries using the <i>add_query_items</i> parameter</h3>"
   ],
   "metadata": {}
  },
  {
   "cell_type": "code",
   "execution_count": null,
   "source": [
    "qry_prov_az.WindowsSecurity.list_host_processes(\r\n",
    "    host_name=\"VictimPC2\",\r\n",
    "    add_query_items=\"| where NewProcessName contains 'powershell'\"\r\n",
    ").head()"
   ],
   "outputs": [],
   "metadata": {}
  },
  {
   "cell_type": "markdown",
   "source": [
    "<br>\n",
    "<h3 style=\"color: White; background-color: DarkSlateGray; padding: 5px\"><i>exec_query</i> is a pass-through for native queries</h3>"
   ],
   "metadata": {}
  },
  {
   "cell_type": "code",
   "execution_count": null,
   "source": [
    "result = qry_prov_az.exec_query(\"SecurityEvent | take 1000 | summarize count() by Computer\")\r\n",
    "result.head(5)"
   ],
   "outputs": [],
   "metadata": {}
  },
  {
   "cell_type": "markdown",
   "source": [
    "<h3 style=\"color: White; background-color: DarkOrange; padding: 5px\"><i>pandas DataFrames</i> are the lingua-franca of MSTICPy</h3>"
   ],
   "metadata": {}
  },
  {
   "cell_type": "code",
   "execution_count": null,
   "source": [
    "type(result)"
   ],
   "outputs": [],
   "metadata": {}
  },
  {
   "cell_type": "markdown",
   "source": [
    "<h2 style=\"color: White; background-color: DarkSlateBlue; padding: 10px\">What if you don't have a suitable query provider? or even a data source?</h2>\r\n",
    "\r\n",
    "## You can still use most of MSTICPy functionality if you can get your data in a DataFrame\r\n",
    "\r\n",
    "- You can import from CSV, JSON and others to a DF\r\n",
    "- Many SDKs (like pyspark) work directly in or can convert to a DataFrame\r\n",
    "- Mordor ([https://github.com/OTRF/mordor](https://github.com/OTRF/mordor)) is a great place to get sample attack data\r\n",
    "\r\n",
    "> <b>PS - if you have a data source that you want to use and code in Python\r\n",
    "> it's easy to write a data provider.<br>\r\n",
    "> Contribute the code as a MSTICPy data provider!!! We're happy to help</b>"
   ],
   "metadata": {}
  },
  {
   "cell_type": "code",
   "execution_count": null,
   "source": [
    "df = pd.read_csv(\"data/ian_procs.csv\", parse_dates=[\"TimeGenerated\"])\r\n",
    "df.head(3)"
   ],
   "outputs": [],
   "metadata": {}
  },
  {
   "cell_type": "code",
   "execution_count": null,
   "source": [
    "df.mp_timeline.plot(group_by=\"NewProcessName\")"
   ],
   "outputs": [],
   "metadata": {}
  },
  {
   "cell_type": "markdown",
   "source": [
    "---\n",
    "\n",
    "<h1 style=\"border: 1px solid;color: White; background-color: DarkSlateGray; padding: 10px\">A tale from the SOC (Security Operations Center)</h1>\n",
    "\n",
    "This section shows how some of the MSTICPy functionality might be used in\n",
    "a Security Operations Center context.\n",
    "\n",
    "We'll look at:\n",
    "- Finding a signal - an alert or anomaly\n",
    "- Getting some contextual information on the actors/entities in that signal\n",
    "- Investigating the target(s) of the attack"
   ],
   "metadata": {}
  },
  {
   "cell_type": "markdown",
   "source": [
    "<h2 style=\"color: White; background-color: DarkSlateBlue; padding: 10px\">Evidence of an attack? Anomalous network traffic</h2>\n",
    "\n",
    "![image](images/Analysis.png)\n",
    "\n",
    "<h3 style=\"color: White; background-color: DarkSlateGray; padding: 5px\">Time Series Decomposition</h3>\n",
    "\n",
    "- STL - Seasonal Trend Decomposition using Loess\n",
    "- Loess (aka LOWESS) - Locally Weighted Scatterplot Smoothing"
   ],
   "metadata": {}
  },
  {
   "cell_type": "code",
   "execution_count": null,
   "source": [
    "from msticpy.nbtools.timeseries import display_timeseries_anomolies\r\n",
    "from msticpy.analysis.timeseries import ts_anomalies_stl"
   ],
   "outputs": [],
   "metadata": {}
  },
  {
   "cell_type": "markdown",
   "source": [
    "For unsummarized data use pandas to summarize by hour\n",
    "```python\n",
    "data = qry_prov_loc.Network.get_network_flows()\n",
    "data = (\n",
    "    data[[\"TimeGenerated\", \"TotalBytesSent\"]]\n",
    "    .set_index(\"TimeGenerated\")\n",
    "    .groupby(pd.Grouper(freq=\"1H\"))\n",
    "    .sum()\n",
    ")\n",
    "```\n",
    "\n",
    "or summarize in your query\n",
    "```python\n",
    "qry_prov.exec_query(\"\"\"\n",
    "    FirewallLogs \n",
    "    | where TimeGenerated > ago(28d) \n",
    "    | summarize sum(TotalBytesSent) by bin(TimeGenerated, 1h)\n",
    "\"\"\"\n",
    ")\n",
    "```"
   ],
   "metadata": {}
  },
  {
   "cell_type": "code",
   "execution_count": null,
   "source": [
    "# Get the data\r\n",
    "net_df = qry_prov_loc.Network.get_network_summary()\r\n",
    "net_df = net_df.set_index(\"TimeGenerated\")\r\n",
    "net_df.head(3)\r\n"
   ],
   "outputs": [],
   "metadata": {}
  },
  {
   "cell_type": "code",
   "execution_count": null,
   "source": [
    "# Conduct our timeseries analysis\r\n",
    "ts_analysis = ts_anomalies_stl(net_df)\r\n",
    "\r\n",
    "# Visualize the timeseries and any anomalies\r\n",
    "display_timeseries_anomolies(data=ts_analysis, y= 'TotalBytesSent');"
   ],
   "outputs": [],
   "metadata": {}
  },
  {
   "cell_type": "markdown",
   "source": [
    "<h3 style=\"color: White; background-color: DarkSlateGray; padding: 5px\">Zero in on the anomaly period</h3>"
   ],
   "metadata": {}
  },
  {
   "cell_type": "markdown",
   "source": [
    "#### Use the anomaly period to filter our underlying data"
   ],
   "metadata": {}
  },
  {
   "cell_type": "code",
   "execution_count": null,
   "source": [
    "from msticpy.analysis.timeseries import find_anomaly_periods\r\n",
    "anom_times = find_anomaly_periods(ts_analysis)\r\n",
    "anom_times"
   ],
   "outputs": [],
   "metadata": {}
  },
  {
   "cell_type": "code",
   "execution_count": null,
   "source": [
    "qry_prov_loc.Network.get_network_flows().head()"
   ],
   "outputs": [],
   "metadata": {}
  },
  {
   "cell_type": "code",
   "execution_count": null,
   "source": [
    "# Use the anomaly period to provide the \"start\" and \"end\" params of our query\r\n",
    "ts_df = qry_prov_loc.Network.get_network_flows(anom_times[0])\r\n",
    "\r\n",
    "# Summarize the traffic counts grouped by Source/Dest IP Address\r\n",
    "noisy_ips = ts_df.groupby([\"SourceIP\", \"DestinationIP\"]).agg({\"TotalBytesSent\": \"sum\"})\r\n",
    "\r\n",
    "# Plot this data and pull out the top offender\r\n",
    "noisy_ips.plot.barh(figsize=(8, 6))\r\n",
    "display(noisy_ips.sort_values(\"TotalBytesSent\", ascending=False).head(1))"
   ],
   "outputs": [],
   "metadata": {}
  },
  {
   "cell_type": "markdown",
   "source": [
    "---\n",
    "\n",
    "<h2 style=\"color: White; background-color: DarkSlateBlue; padding: 10px\">Enrichment Functions - getting to know your subject</h2>\n",
    "\n",
    "\n",
    "![image](images/enrichment.png)\n",
    "\n",
    "### Enrich with what? how?\n",
    "\n",
    "We want to find more information about this IP Address"
   ],
   "metadata": {}
  },
  {
   "cell_type": "markdown",
   "source": [
    "<h3 style=\"color: White; background-color: DarkOrange; padding: 5px\">Introducing Entities</h3>\n",
    "\n",
    "#### Entities are simple classes that represent \"real-world\" Cyber objects like accounts and IP addresses\n"
   ],
   "metadata": {}
  },
  {
   "cell_type": "code",
   "execution_count": null,
   "source": [
    "# Import and initialize dynamic pivot functions - more later\r\n",
    "from msticpy.datamodel.pivot import Pivot\r\n",
    "from msticpy.datamodel import entities\r\n",
    "\r\n",
    "\r\n",
    "md(f\"Some Entities:\", \"bold, large\")\r\n",
    "md(f\"{', '.join(dir(entities)[:25])} ...\", \"large\")\r\n",
    "\r\n",
    "entities.IpAddress(Address=\"38.75.137.9\")"
   ],
   "outputs": [],
   "metadata": {}
  },
  {
   "cell_type": "markdown",
   "source": [
    "<h3 style=\"color: White; background-color: DarkOrange; padding: 5px\">Also introducing Pivot functions</h3>\n",
    "\n",
    "![image](images/Interface.png)\n",
    "\n",
    "Pivot functions are methods of entities that provide:\n",
    "- data queries related to an entity\n",
    "- enrichment functions relevant to that entity\n",
    "\n",
    "Pivot functions are dynamically attached to entities. We created this\n",
    "framework to make it easier to find which functions you can use for which entity type.\n",
    "\n",
    "### Motivation\n",
    "- We had built a lot of functionality in MSTICPy for querying and enrichment\n",
    "- A lot of the functions had inconsistent type/parameter signatures\n",
    "- There was no easy discovery mechanism for these functions - you had to know\n",
    "- Using entities as pivot points is a \"natural\" investigation pattern"
   ],
   "metadata": {}
  },
  {
   "cell_type": "code",
   "execution_count": null,
   "source": [
    "pivot = Pivot(namespace=globals())\r\n",
    "\r\n",
    "pivot.browse()"
   ],
   "outputs": [],
   "metadata": {}
  },
  {
   "cell_type": "markdown",
   "source": [
    "### Pivot functions are flexible - can take input as strings, lists or dataframes"
   ],
   "metadata": {}
  },
  {
   "cell_type": "code",
   "execution_count": null,
   "source": [
    "IpAddress = entities.IpAddress\r\n",
    "\r\n",
    "IpAddress.whois(\"38.75.137.9\")"
   ],
   "outputs": [],
   "metadata": {
    "tags": []
   }
  },
  {
   "cell_type": "markdown",
   "source": [
    "#### Find whois info for all of the IPs in the data set"
   ],
   "metadata": {}
  },
  {
   "cell_type": "code",
   "execution_count": null,
   "source": [
    "invest_ips = noisy_ips.reset_index()\r\n",
    "IpAddress.whois(invest_ips, column=\"DestinationIP\")"
   ],
   "outputs": [],
   "metadata": {}
  },
  {
   "cell_type": "code",
   "execution_count": null,
   "source": [
    "IpAddress.whois(invest_ips, column=\"SourceIP\", join=\"left\")"
   ],
   "outputs": [],
   "metadata": {}
  },
  {
   "cell_type": "markdown",
   "source": [
    "#### also geolocation data"
   ],
   "metadata": {}
  },
  {
   "cell_type": "code",
   "execution_count": null,
   "source": [
    "from msticpy.datamodel.entities import IpAddress\r\n",
    "\r\n",
    "destip = IpAddress(Address=\"38.75.137.9\")\r\n",
    "\r\n",
    "destip\r\n",
    "destip.geoloc()\r\n",
    "destip.Location = entities.GeoLocation(destip.geoloc().iloc[0])\r\n",
    "display(destip)"
   ],
   "outputs": [],
   "metadata": {}
  },
  {
   "cell_type": "code",
   "execution_count": null,
   "source": [
    "# Create a map\r\n",
    "folium = FoliumMap(zoom_start=10)\r\n",
    "\r\n",
    "# Get all of the IPs from our data set and make them into GeoLocation objects\r\n",
    "dest_ip_locs = IpAddress.geoloc(data=invest_ips, column=\"DestinationIP\").apply(entities.GeoLocation, axis=1)\r\n",
    "\r\n",
    "# Add our suspect IP and center around that\r\n",
    "folium.add_ip_cluster([destip], color=\"red\")\r\n",
    "folium.center_map()\r\n",
    "# Add the rest of the IPs\r\n",
    "folium.add_geoloc_cluster(dest_ip_locs.values, color=\"blue\")\r\n",
    "folium.add_ip_cluster([destip], color=\"red\")\r\n",
    "\r\n",
    "folium"
   ],
   "outputs": [],
   "metadata": {}
  },
  {
   "cell_type": "markdown",
   "source": [
    "<h3 style=\"color: White; background-color: DarkSlateGray; padding: 5px\">Applying some (threat) intelligence to the problem</h3>\n",
    "\n",
    "### What are Threat Intelligence providers?\n",
    "\n",
    "#### Threat Intel definition (Courtesy Crowdstrike)\n",
    "> Threat intelligence is data that is collected, processed, and analyzed to understand a threat<br>\n",
    "> actor’s motives, targets, and attack behaviors. Threat intelligence enables us to make faster,<br>\n",
    "> more informed, data-backed security decisions and change their behavior from reactive to<br>\n",
    "> proactive in the fight against threat actors.\n",
    "\n",
    "A number of companies make Threat Intel (TI) data available via public or paid APIs:\n",
    "- VirusTotal\n",
    "- AlienVault OTX\n",
    "- IBM XForce\n",
    "- and many others"
   ],
   "metadata": {}
  },
  {
   "cell_type": "code",
   "execution_count": null,
   "source": [
    "ti_results = destip.tilookup_ipv4()\r\n",
    "TILookup.browse_results(ti_results)"
   ],
   "outputs": [],
   "metadata": {}
  },
  {
   "cell_type": "markdown",
   "source": [
    "<h3 style=\"color: White; background-color: DarkSlateGray; padding: 5px\">Side note: we have an app for this last section - see Notebooklets below</h3>\n",
    "\n",
    "```python\n",
    "ip_result = IpAddress.nblt.ip_address_summary(destip, timespan=timerange)\n",
    "```"
   ],
   "metadata": {}
  },
  {
   "cell_type": "markdown",
   "source": [
    "---\n",
    "\n",
    "<h2 style=\"color: White; background-color: DarkSlateBlue; padding: 10px\">Let's look at what happened on the host...the other end of the communication</h2>\n",
    "\n",
    "<h3 style=\"color: White; background-color: DarkSlateGray; padding: 5px\">Introducing \"notebooklets\" - macros for CyberSec</h3>\n",
    "\n",
    "![image](images/Interface.png)\n",
    "\n",
    "We built notebooklets because life is too short keep writing (copy/pasting) the same code over and over again.\n",
    "\n",
    "Notebooklets package multiple notebook cells for common investigation routines into simple functions\n",
    "\n",
    "<h3 style=\"color: White; background-color: DarkOrange; padding: 5px\">Compare lines of code in the following section to output!</h3>"
   ],
   "metadata": {}
  },
  {
   "cell_type": "code",
   "execution_count": null,
   "source": [
    "# Import and initialize MSTIC Notebooklets - companion package\r\n",
    "# more later\r\n",
    "import msticnb as nb\r\n",
    "nb.init(query_provider=qry_prov_az)\r\n",
    "# qry_prov_az.connect(WorkspaceConfig(workspace=\"CyberSecuritySoc\"))\r\n",
    "\r\n",
    "nb.browse()"
   ],
   "outputs": [],
   "metadata": {}
  },
  {
   "cell_type": "code",
   "execution_count": null,
   "source": [
    "host_time = nbwidgets.QueryTime(timespan=anom_times[0])\r\n",
    "host_time"
   ],
   "outputs": [],
   "metadata": {}
  },
  {
   "cell_type": "code",
   "execution_count": null,
   "source": [
    "host_summary = nb.nblts.azsent.host.HostSummary()\r\n",
    "\r\n",
    "host_summary_rslt = host_summary.run(value=\"victimpc\", timespan=host_time, options=[\"-bookmarks\", \"-azure_api\"])"
   ],
   "outputs": [],
   "metadata": {}
  },
  {
   "cell_type": "code",
   "execution_count": null,
   "source": [
    "host_summary_rslt.browse_alerts()"
   ],
   "outputs": [],
   "metadata": {}
  },
  {
   "cell_type": "markdown",
   "source": [
    "<h3 style=\"color: White; background-color: DarkSlateGray; padding: 5px\">Who logged on to this host?</h3> "
   ],
   "metadata": {}
  },
  {
   "cell_type": "code",
   "execution_count": null,
   "source": [
    "host_logons = nb.nblts.azsent.host.HostLogonsSummary()\r\n",
    "host_logons_rslt = host_logons.run(value=\"victimpc\", timespan=host_time)"
   ],
   "outputs": [],
   "metadata": {}
  },
  {
   "cell_type": "code",
   "execution_count": null,
   "source": [
    "%kql SigninLogs | summarize count() by UserPrincipalName | order by count_ desc | limit 20"
   ],
   "outputs": [],
   "metadata": {}
  },
  {
   "cell_type": "code",
   "execution_count": null,
   "source": [
    "account_summary = nb.nblts.azsent.account.AccountSummary()\r\n",
    "acct_result = account_summary.run(value=\"RonHD\", timespan=host_time, options=[\"-get_bookmarks\"])"
   ],
   "outputs": [],
   "metadata": {}
  },
  {
   "cell_type": "code",
   "execution_count": null,
   "source": [
    "account_summary = nb.nblts.azsent.account.AccountSummary()\r\n",
    "acct_result = account_summary.run(value=\"seb\", timespan=host_time, options=[\"-get_bookmarks\"])"
   ],
   "outputs": [],
   "metadata": {}
  },
  {
   "cell_type": "code",
   "execution_count": null,
   "source": [
    "acct_result.get_additional_data()"
   ],
   "outputs": [],
   "metadata": {}
  },
  {
   "cell_type": "code",
   "execution_count": null,
   "source": [
    "acct_result.az_activity_timeline_by_operation()"
   ],
   "outputs": [],
   "metadata": {}
  },
  {
   "cell_type": "markdown",
   "source": [
    "<br>\n",
    "<h3 style=\"color: White; background-color: DarkSlateGray; padding: 5px\">It's also a good idea to look at processes...</h3>\n",
    "\n",
    "#### ...but which ones?\n",
    "\n",
    "> Disclaimer - this data is captive (local) data from another host. Just to highlight some things"
   ],
   "metadata": {}
  },
  {
   "cell_type": "code",
   "execution_count": null,
   "source": [
    "procs_df = entities.Host.LocalData.host_processes(host_name=\"MSTICAlertsWin1\")\r\n",
    "display(procs_df.head())\r\n",
    "md(f\"Total number of events: {len(procs_df)}\", \"bold\")\r\n"
   ],
   "outputs": [],
   "metadata": {}
  },
  {
   "cell_type": "code",
   "execution_count": null,
   "source": [
    "logon_session = nb.nblts.azsent.host.LogonSessionsRarity()\r\n",
    "logon_rslt = logon_session.run(data=procs_df)"
   ],
   "outputs": [],
   "metadata": {}
  },
  {
   "cell_type": "code",
   "execution_count": null,
   "source": [
    "logon_rslt.process_tree(account=\"MSTICAlertsWin1\\ian\")"
   ],
   "outputs": [],
   "metadata": {}
  },
  {
   "cell_type": "code",
   "execution_count": null,
   "source": [
    "enc_cmds = logon_rslt.processes_with_cluster.query(\"Account.str.contains('ian') and NewProcessName.str.contains('powershell')\")\r\n",
    "\r\n",
    "display(enc_cmds[[\"NewProcessName\", \"CommandLine\"]])\r\n"
   ],
   "outputs": [],
   "metadata": {}
  },
  {
   "cell_type": "code",
   "execution_count": null,
   "source": [
    "for row in entities.Process.util.b64decode(enc_cmds, column=\"CommandLine\").itertuples():\r\n",
    "    print(row.Index, row.decoded_string)\r\n"
   ],
   "outputs": [],
   "metadata": {}
  },
  {
   "cell_type": "markdown",
   "source": [
    "---\r\n",
    "\r\n",
    "<h2 style=\"color: White; background-color: DarkSlateBlue; padding: 10px\">End of part 1 - The SOC story.</h2>\r\n",
    "\r\n",
    "<h3 style=\"color: White; background-color: DarkSlateGray;padding: 10px\">We identified a network traffic anomaly</h3>\r\n",
    "\r\n",
    "<ul style=\"font-size: large\">\r\n",
    "<li>We found the IP addresses responsible</li>\r\n",
    "<li>We found contextual info such as geo location and subnet ownership</li>\r\n",
    "<li>We used Threat Intelligence to confirm that this IP was malicious</li>\r\n",
    "</ul>\r\n",
    "\r\n",
    "\r\n",
    "<h3 style=\"color: White; background-color: DarkSlateGray; padding: 10px\">Looking at the host</h3>\r\n",
    "<ul style=\"font-size: large\">\r\n",
    "<li>We retrieved some overview data about our host</li>\r\n",
    "<li>Retrieved a lot of info about the logon patterns on that host</li>\r\n",
    "<li>Were able to identify the suspicious session and view the process tree</li>\r\n",
    "<li>We found some encoded powershell commands linking back to the attacker</li>\r\n",
    "</ul>\r\n",
    "\r\n",
    "---\r\n",
    "\r\n",
    "<h3 style=\"color: White; background-color: DarkSlateGray; padding: 10px\">Note - this won't be the end of the story for the Analyst...</h3>\r\n"
   ],
   "metadata": {}
  },
  {
   "cell_type": "markdown",
   "source": [
    "<h3 style=\"color: White; background-color: DarkSlateGray; padding: 10px\">...nor for us. On to part #2</h3>"
   ],
   "metadata": {}
  }
 ],
 "metadata": {
  "kernelspec": {
   "name": "python3",
   "display_name": "Python 3.7.10 64-bit (conda)"
  },
  "language_info": {
   "codemirror_mode": {
    "name": "ipython",
    "version": 3
   },
   "file_extension": ".py",
   "mimetype": "text/x-python",
   "name": "python",
   "nbconvert_exporter": "python",
   "pygments_lexer": "ipython3",
   "version": "3.7.10"
  },
  "widgets": {
   "application/vnd.jupyter.widget-state+json": {
    "state": {},
    "version_major": 2,
    "version_minor": 0
   }
  },
  "interpreter": {
   "hash": "b736adfe05d9ae282eea4c01a733d58a0215ef3399d39339e6557e4c515b0f48"
  }
 },
 "nbformat": 4,
 "nbformat_minor": 4
}